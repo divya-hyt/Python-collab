{
 "cells": [
  {
   "cell_type": "markdown",
   "id": "dabe7644",
   "metadata": {},
   "source": [
    "# For loops, Range and Code Blocks"
   ]
  },
  {
   "cell_type": "code",
   "execution_count": 3,
   "id": "0cf4ecf0",
   "metadata": {},
   "outputs": [
    {
     "name": "stdout",
     "output_type": "stream",
     "text": [
      "Plum\n",
      "Plum Jam\n",
      "Orange\n",
      "Orange Jam\n",
      "Pear\n",
      "Pear Jam\n",
      "['Plum', 'Orange', 'Pear']\n"
     ]
    }
   ],
   "source": [
    "# Ex:1 For loop: to print items in a list\n",
    "fruits = [\"Plum\", \"Orange\", \"Pear\"]\n",
    "for fruit in fruits:\n",
    "    print(fruit)\n",
    "    print(fruit + \" Jam\")\n",
    "print(fruits)                               #Indentation outside For loop"
   ]
  },
  {
   "cell_type": "code",
   "execution_count": 9,
   "id": "418d7631",
   "metadata": {},
   "outputs": [
    {
     "name": "stdout",
     "output_type": "stream",
     "text": [
      "Enter the heights of students separated by space:\n",
      "159 164 167 158\n",
      "total height = 648\n",
      "number of students = 4\n",
      "average height = 162\n"
     ]
    }
   ],
   "source": [
    "# Exercise 2: To print average height using for loop --> without using sum() or len() functions; \n",
    "# Input a Python list of student heights\n",
    "student_heights = input(\"Enter the heights of students separated by space:\\n\").split()\n",
    "for n in range(0, len(student_heights)):                               #range fucntion\n",
    "  student_heights[n] = int(student_heights[n])\n",
    "# 🚨 Don't change the code above 👆 output: Total height, number of students, average height\n",
    "  \n",
    "\n",
    "# To find total height:\n",
    "\n",
    "i = 0\n",
    "for h in student_heights:\n",
    "    i += h\n",
    "print(f\"total height = {i}\")\n",
    "\n",
    "# To find number of students\n",
    "\n",
    "j = 0\n",
    "for s in student_heights:\n",
    "    j += 1\n",
    "    \n",
    "print(f\"number of students = {j}\")\n",
    "\n",
    "#To find average height\n",
    "\n",
    "b = round(i / j)\n",
    "print(f\"average height = {b}\")"
   ]
  },
  {
   "cell_type": "code",
   "execution_count": 10,
   "id": "ecb3cf04",
   "metadata": {},
   "outputs": [
    {
     "name": "stdout",
     "output_type": "stream",
     "text": [
      "45 67 31 45 69\n",
      "The highest score in the class is: 69\n"
     ]
    }
   ],
   "source": [
    "# Exercise 3: To find the highest score using for loop (max/min functions not allowed)\n",
    "# Input a list of student scores\n",
    "student_scores = input().split()\n",
    "for n in range(0, len(student_scores)):\n",
    "  student_scores[n] = int(student_scores[n])\n",
    "\n",
    "# Write your code below this row 👇\n",
    "max_score = 0\n",
    "for score in student_scores:\n",
    "  if score > max_score:\n",
    "    max_score = score\n",
    "print (f\"The highest score in the class is: {max_score}\")\n",
    "  "
   ]
  },
  {
   "cell_type": "code",
   "execution_count": 1,
   "id": "9b72ebe9",
   "metadata": {},
   "outputs": [
    {
     "name": "stdout",
     "output_type": "stream",
     "text": [
      "The sum is: 5050\n",
      "The sum is: 2550\n"
     ]
    }
   ],
   "source": [
    "# Exercise 4: For loop with range function\n",
    "#  Find sum of numbers from 1 to 100\n",
    "total = 0\n",
    "for n in range(1,101):\n",
    "    total += n\n",
    "print(f\"The sum is: {total}\")\n",
    "\n",
    "even_total = 0\n",
    "for n in range(2,101,2):\n",
    "    even_total += n\n",
    "print(f\"The sum is: {even_total}\")\n",
    "    \n",
    "\n"
   ]
  },
  {
   "cell_type": "code",
   "execution_count": 14,
   "id": "ade98d22",
   "metadata": {},
   "outputs": [
    {
     "name": "stdout",
     "output_type": "stream",
     "text": [
      "200\n",
      "10100\n"
     ]
    }
   ],
   "source": [
    "# Exercise 5: To print sum of even numbers in within entered range !\n",
    "\n",
    "target = int(input()) # Enter a number between 0 and 1000\n",
    "# 🚨 Do not change the code above ☝️\n",
    "\n",
    "# Write your code here 👇\n",
    "\n",
    "total = 0\n",
    "if target <= 1000:\n",
    "  for n in range(2,target + 1,2):\n",
    "    total += n\n",
    "  print(total)\n",
    "else:\n",
    "  print(\"Input not in range of 0 to 1000!\")"
   ]
  },
  {
   "cell_type": "markdown",
   "id": "d67f2fdd",
   "metadata": {},
   "source": [
    "#Exercise 6: The fizzbuzz game\n",
    "You are going to write a program that automatically prints the solution to the FizzBuzz game. These are the rules of the FizzBuzz game:\n",
    "\n",
    "Your program should print each number from 1 to 100 in turn and include number 100.\n",
    "\n",
    "When the number is divisible by 3 then instead of printing the number it should print \"Fizz\".\n",
    "\n",
    "When the number is divisible by 5, then instead of printing the number it should print \"Buzz\".`\n",
    "\n",
    "And if the number is divisible by both 3 and 5 e.g. 15 then instead of the number it should print \"FizzBuzz\"\n"
   ]
  },
  {
   "cell_type": "code",
   "execution_count": 16,
   "id": "08e80978",
   "metadata": {},
   "outputs": [
    {
     "name": "stdout",
     "output_type": "stream",
     "text": [
      "1\n",
      "2\n",
      "fizz\n",
      "4\n",
      "buzz\n",
      "fizz\n",
      "7\n",
      "8\n",
      "fizz\n",
      "buzz\n",
      "11\n",
      "fizz\n",
      "13\n",
      "14\n",
      "fizzbuzz\n",
      "16\n",
      "17\n",
      "fizz\n",
      "19\n",
      "buzz\n",
      "fizz\n",
      "22\n",
      "23\n",
      "fizz\n",
      "buzz\n",
      "26\n",
      "fizz\n",
      "28\n",
      "29\n",
      "fizzbuzz\n",
      "31\n",
      "32\n",
      "fizz\n",
      "34\n",
      "buzz\n",
      "fizz\n",
      "37\n",
      "38\n",
      "fizz\n",
      "buzz\n",
      "41\n",
      "fizz\n",
      "43\n",
      "44\n",
      "fizzbuzz\n",
      "46\n",
      "47\n",
      "fizz\n",
      "49\n",
      "buzz\n",
      "fizz\n",
      "52\n",
      "53\n",
      "fizz\n",
      "buzz\n",
      "56\n",
      "fizz\n",
      "58\n",
      "59\n",
      "fizzbuzz\n",
      "61\n",
      "62\n",
      "fizz\n",
      "64\n",
      "buzz\n",
      "fizz\n",
      "67\n",
      "68\n",
      "fizz\n",
      "buzz\n",
      "71\n",
      "fizz\n",
      "73\n",
      "74\n",
      "fizzbuzz\n",
      "76\n",
      "77\n",
      "fizz\n",
      "79\n",
      "buzz\n",
      "fizz\n",
      "82\n",
      "83\n",
      "fizz\n",
      "buzz\n",
      "86\n",
      "fizz\n",
      "88\n",
      "89\n",
      "fizzbuzz\n",
      "91\n",
      "92\n",
      "fizz\n",
      "94\n",
      "buzz\n",
      "fizz\n",
      "97\n",
      "98\n",
      "fizz\n",
      "buzz\n"
     ]
    }
   ],
   "source": [
    "#Exercise 6: The fizzbuzz game \n",
    "for n in range(1,101):\n",
    "    if (n % 3 == 0) and (n % 5 == 0):\n",
    "        print(\"fizzbuzz\")\n",
    "    elif (n % 3 == 0):\n",
    "        print(\"fizz\")\n",
    "    elif (n % 5 == 0):\n",
    "        print(\"buzz\")\n",
    "    else:\n",
    "        print(n)\n",
    "    "
   ]
  },
  {
   "cell_type": "markdown",
   "id": "3986668a",
   "metadata": {},
   "source": [
    "# Exercise 7: Final Project- Password generator: Sequential version and Random version"
   ]
  },
  {
   "cell_type": "code",
   "execution_count": 36,
   "id": "a3e2f319",
   "metadata": {},
   "outputs": [
    {
     "name": "stdout",
     "output_type": "stream",
     "text": [
      "Welcome to the PyPassword Generator!\n",
      "How many letters would you like in your password?\n",
      "6\n",
      "How many symbols would you like?\n",
      "2\n",
      "How many numbers would you like?\n",
      "3\n",
      "Your password is: VlNmEY)&458\n"
     ]
    }
   ],
   "source": [
    "# Exercise 7: Password generator project: Sequential version- order of characters not randomized\n",
    "#Password Generator Project\n",
    "#Easy Level - Order not randomised:\n",
    "#e.g. 4 letter, 2 symbol, 2 number = JduE&!91\n",
    "\n",
    "import random\n",
    "letters = ['a', 'b', 'c', 'd', 'e', 'f', 'g', 'h', 'i', 'j', 'k', 'l', 'm', 'n', 'o', 'p', 'q', 'r', 's', 't', 'u', 'v', 'w', 'x', 'y', 'z', 'A', 'B', 'C', 'D', 'E', 'F', 'G', 'H', 'I', 'J', 'K', 'L', 'M', 'N', 'O', 'P', 'Q', 'R', 'S', 'T', 'U', 'V', 'W', 'X', 'Y', 'Z']\n",
    "numbers = ['0', '1', '2', '3', '4', '5', '6', '7', '8', '9']\n",
    "symbols = ['!', '#', '$', '%', '&', '(', ')', '*', '+']\n",
    "\n",
    "print(\"Welcome to the PyPassword Generator!\")\n",
    "nr_letters= int(input(\"How many letters would you like in your password?\\n\")) \n",
    "nr_symbols = int(input(f\"How many symbols would you like?\\n\"))\n",
    "nr_numbers = int(input(f\"How many numbers would you like?\\n\"))\n",
    "\n",
    "pwd = \"\"    #initializing an empty string to accumulate\n",
    "\n",
    "#To get the letter string\n",
    "\n",
    "for i in range(1, nr_letters + 1):    \n",
    "    pwd += random.choice(letters) #random.choice() to select a random element from the given list\n",
    "\n",
    "#To get the symbols string\n",
    "\n",
    "for i in range(1, nr_symbols + 1):    \n",
    "    pwd += random.choice(symbols)\n",
    "\n",
    "#To get the numbers string\n",
    "\n",
    "for i in range(1, nr_numbers + 1):    \n",
    "    pwd += random.choice(numbers)\n",
    "        \n",
    "print(f\"Your password is: {pwd}\")\n"
   ]
  },
  {
   "cell_type": "code",
   "execution_count": 37,
   "id": "d1f08e96",
   "metadata": {},
   "outputs": [
    {
     "name": "stdout",
     "output_type": "stream",
     "text": [
      "Welcome to the PyPassword Generator!\n",
      "How many letters would you like in your password?\n",
      "4\n",
      "How many symbols would you like?\n",
      "3\n",
      "How many numbers would you like?\n",
      "1\n",
      "Your password is: ngM+7+!J\n"
     ]
    }
   ],
   "source": [
    "# Exercise 7: Password generator project: Random version- order of characters randomized\n",
    "#Password Generator Project\n",
    "#Hard Level - Order randomised:\n",
    "\n",
    "import random\n",
    "letters = ['a', 'b', 'c', 'd', 'e', 'f', 'g', 'h', 'i', 'j', 'k', 'l', 'm', 'n', 'o', 'p', 'q', 'r', 's', 't', 'u', 'v', 'w', 'x', 'y', 'z', 'A', 'B', 'C', 'D', 'E', 'F', 'G', 'H', 'I', 'J', 'K', 'L', 'M', 'N', 'O', 'P', 'Q', 'R', 'S', 'T', 'U', 'V', 'W', 'X', 'Y', 'Z']\n",
    "numbers = ['0', '1', '2', '3', '4', '5', '6', '7', '8', '9']\n",
    "symbols = ['!', '#', '$', '%', '&', '(', ')', '*', '+']\n",
    "\n",
    "print(\"Welcome to the PyPassword Generator!\")\n",
    "nr_letters= int(input(\"How many letters would you like in your password?\\n\")) \n",
    "nr_symbols = int(input(f\"How many symbols would you like?\\n\"))\n",
    "nr_numbers = int(input(f\"How many numbers would you like?\\n\"))\n",
    "\n",
    "pwd = \"\"\n",
    "\n",
    "#To get the letter string\n",
    "\n",
    "for i in range(1, nr_letters + 1):    \n",
    "    pwd += random.choice(letters) #random.choice() to select a random element from the given list\n",
    "\n",
    "#To get the symbols string\n",
    "\n",
    "for i in range(1, nr_symbols + 1):    \n",
    "    pwd += random.choice(symbols)\n",
    "\n",
    "#To get the numbers string\n",
    "\n",
    "for i in range(1, nr_numbers + 1):    \n",
    "    pwd += random.choice(numbers)\n",
    "        \n",
    "        \n",
    "# using list() to convert the string in pwd to list\n",
    "pwd_list = list(pwd)\n",
    "\n",
    "# random.shuffle() can be used to shuffle the elements in a list\n",
    "\n",
    "pwd_final_list = random.shuffle(pwd_list)\n",
    "pwd_final = \"\"\n",
    "for i in pwd_list:\n",
    "    pwd_final += i \n",
    "\n",
    "print(f\"Your password is: {pwd_final}\")\n",
    "    \n"
   ]
  },
  {
   "cell_type": "code",
   "execution_count": null,
   "id": "fcb858ea",
   "metadata": {},
   "outputs": [],
   "source": []
  }
 ],
 "metadata": {
  "kernelspec": {
   "display_name": "Python 3 (ipykernel)",
   "language": "python",
   "name": "python3"
  },
  "language_info": {
   "codemirror_mode": {
    "name": "ipython",
    "version": 3
   },
   "file_extension": ".py",
   "mimetype": "text/x-python",
   "name": "python",
   "nbconvert_exporter": "python",
   "pygments_lexer": "ipython3",
   "version": "3.11.3"
  }
 },
 "nbformat": 4,
 "nbformat_minor": 5
}
