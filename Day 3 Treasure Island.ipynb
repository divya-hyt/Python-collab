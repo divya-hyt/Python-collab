{
 "cells": [
  {
   "cell_type": "markdown",
   "id": "ea703e3c",
   "metadata": {},
   "source": [
    "# Day 3: Conditional Statements, Logical Operators, Codeblocks and Scope"
   ]
  },
  {
   "cell_type": "code",
   "execution_count": 2,
   "id": "eb10400e",
   "metadata": {},
   "outputs": [
    {
     "name": "stdout",
     "output_type": "stream",
     "text": [
      "Welcome to the Roller Coaster ride!\n",
      "What is your height in cm? 119\n",
      "You need to grow taller before you can ride!\n"
     ]
    }
   ],
   "source": [
    "# Exercise:1 \n",
    "# Using if-else, Checking eligibility to ride a rollercoaster\n",
    "\n",
    "print(\"Welcome to the Roller Coaster ride!\")\n",
    "height = int(input(\"What is your height in cm? \"))\n",
    "if height >= 120:\n",
    "    print(\"Congratulations, You are eligible to ride !\")\n",
    "else:\n",
    "    print(\"You need to grow taller before you can ride!\")"
   ]
  },
  {
   "cell_type": "code",
   "execution_count": 51,
   "id": "e1a16cde",
   "metadata": {},
   "outputs": [
    {
     "name": "stdout",
     "output_type": "stream",
     "text": [
      "Which number do you want to check?\n",
      "45\n",
      "This is an odd number.\n"
     ]
    }
   ],
   "source": [
    "# Exercise: 2\n",
    "# Find if input number is odd or even (% operator gives the remainder in Python)\n",
    "# Which number do you want to check?\n",
    "number = int(input(\"Which number do you want to check?\\n\"))\n",
    "# 🚨 Don't change the code above 👆\n",
    "\n",
    "# Write your code below this line 👇\n",
    "if number % 2 == 0:\n",
    "  print(\"This is an even number.\")\n",
    "else:\n",
    "  print(\"This is an odd number.\")  \n",
    "   "
   ]
  },
  {
   "cell_type": "code",
   "execution_count": 6,
   "id": "527edf4b",
   "metadata": {},
   "outputs": [
    {
     "name": "stdout",
     "output_type": "stream",
     "text": [
      "Welcome to the Roller Coaster ride!\n",
      "What is your height in cm? 160\n",
      "Congratulations, You are eligible to ride !\n",
      "What is your age? 32\n",
      "Your ticket costs $12.\n",
      "Enjoy your ride !\n"
     ]
    }
   ],
   "source": [
    "# Nested if statements and elif statements\n",
    "# Exercise 3: Rollercoaster ride, 18+ costs $12, <18 costs $7\n",
    "\n",
    "print(\"Welcome to the Roller Coaster ride!\")\n",
    "height = int(input(\"What is your height in cm? \"))\n",
    "if height >= 120:\n",
    "    print(\"Congratulations, You are eligible to ride !\")\n",
    "    age = int(input(\"What is your age? \"))\n",
    "    if age >= 18:\n",
    "        print(\"Your ticket costs $12.\\nEnjoy your ride !\")\n",
    "    else:\n",
    "        print(\"Your ticket costs $7.\\nEnjoy your ride !\")\n",
    "else:\n",
    "    print(\"You need to grow taller before you can ride!\")"
   ]
  },
  {
   "cell_type": "code",
   "execution_count": 2,
   "id": "b224782a",
   "metadata": {},
   "outputs": [
    {
     "name": "stdout",
     "output_type": "stream",
     "text": [
      "Welcome to the Roller Coaster ride!\n",
      "What is your height in cm? 158\n",
      "Congratulations, You are eligible to ride !\n",
      "What is your age? 64\n",
      "Your ticket costs $12.\n",
      "Enjoy your ride !\n"
     ]
    }
   ],
   "source": [
    "# Exercise:4 Using elif statements\n",
    "#  If you need to check multiple conditions elif is useful\n",
    "#  For eg. in the same Exercise above, if age<12, cost=$5; age between 12 and 18, cost=$7; age > 18, cost=$12\n",
    "\n",
    "print(\"Welcome to the Roller Coaster ride!\")\n",
    "height = int(input(\"What is your height in cm? \"))\n",
    "if height >= 120:\n",
    "    print(\"Congratulations, You are eligible to ride !\")\n",
    "    age = int(input(\"What is your age? \"))\n",
    "    \n",
    "    if age < 12:\n",
    "        print(\"Your ticket Your ticket costs $5.\\nEnjoy your ride !\")\n",
    "    elif age <= 18:\n",
    "        print(\"Your ticket costs $7.\\nEnjoy your ride !\")\n",
    "    else:\n",
    "        print(\"Your ticket costs $12.\\nEnjoy your ride !\")\n",
    "else:\n",
    "    print(\"You need to grow taller before you can ride!\")"
   ]
  },
  {
   "cell_type": "code",
   "execution_count": 52,
   "id": "14017088",
   "metadata": {},
   "outputs": [
    {
     "name": "stdout",
     "output_type": "stream",
     "text": [
      "Enter your height in metres:\n",
      "1.6\n",
      "Enter your weight in kg:\n",
      "54\n",
      "Your BMI is 21.09, you have normal weight.\n"
     ]
    }
   ],
   "source": [
    "# Exercise 5: BMI 2.0\n",
    "# It should tell them the interpretation of their BMI based on the BMI value.\n",
    "# Under 18.5 they are underweight\n",
    "# Over 18.5 but below 25 they have a normal weight\n",
    "# Equal to or over 25 but below 30 they are slightly overweight\n",
    "# Equal to or over 30 but below 35 they are obese\n",
    "# Equal to or over 35 they are clinically obese.\n",
    "# BMI Calculator: BMI= Weight in kg/ Height^2 in metres\n",
    "#  Final output: \"Your BMI is x. You are w\"\n",
    "\n",
    "# 1st input: enter height in meters e.g: 1.65\n",
    "height = float(input(\"Enter your height in metres:\\n\"))\n",
    "\n",
    "# 2nd input: enter weight in kilograms e.g: 72\n",
    "weight = int(input(\"Enter your weight in kg:\\n\"))\n",
    "\n",
    "# 🚨 Don't change the code above 👆 remember PEDMAS and ** is for exponent of;\n",
    "\n",
    "BMI = round(weight / (height*height),2)\n",
    "\n",
    "if BMI < 18.5:\n",
    "    print(f\"Your BMI is {BMI}, you are underweight.\")\n",
    "elif BMI < 25:\n",
    "    print(f\"Your BMI is {BMI}, you have normal weight.\")\n",
    "elif BMI < 30:\n",
    "    print(f\"Your BMI is {BMI}, you are slightly overweight.\")\n",
    "elif BMI < 35:\n",
    "    print(f\"Your BMI is {BMI}, you are obese.\")\n",
    "else:\n",
    "    print(f\"Your BMI is {BMI}, you are clinically obese.\")"
   ]
  },
  {
   "cell_type": "code",
   "execution_count": 3,
   "id": "02d5ef1c",
   "metadata": {},
   "outputs": [
    {
     "name": "stdout",
     "output_type": "stream",
     "text": [
      "She said: \"Hi!\"\n"
     ]
    }
   ],
   "source": [
    "# Trick: Escaping strings - to use double quotes within a statement- use backslash before it. \\\"text\\\"\n",
    "speech = \"She said: \\\"Hi!\\\"\"\n",
    "print(speech)"
   ]
  },
  {
   "cell_type": "code",
   "execution_count": 54,
   "id": "2714294d",
   "metadata": {},
   "outputs": [
    {
     "name": "stdout",
     "output_type": "stream",
     "text": [
      "Enter the year you want to check:\n",
      "2020\n",
      "Leap year\n"
     ]
    }
   ],
   "source": [
    "# Exercise 6: Leap Year\n",
    "# Which year do you want to check?\n",
    "year = int(input(\"Enter the year you want to check:\\n\"))\n",
    "# 🚨 Don't change the code above 👆\n",
    "\n",
    "# Write your code below this line 👇\n",
    "if year % 4 == 0:\n",
    "  if year % 100 == 0 and year % 400 == 0:\n",
    "    print(\"Leap year\")\n",
    "  elif year % 100 == 0 and year % 400 != 0:\n",
    "    print(\"Not leap year\")\n",
    "  elif year % 100 != 0:\n",
    "    print(\"Leap year\")\n",
    "else:\n",
    "  print(\"Not leap year\")    "
   ]
  },
  {
   "cell_type": "markdown",
   "id": "e9a5aed8",
   "metadata": {},
   "source": [
    "<!-- # Condition for leap year: \n",
    "# This is how you work out whether if a particular year is a leap year.\n",
    "# on every year that is divisible by 4 with no remainder\n",
    "# except every year that is evenly divisible by 100 with no remainder\n",
    "# unless the year is also divisible by 400 with no remainder\n",
    "\n",
    "# If english is not your first language or if the above logic is confusing, try using this flow chart .\n",
    "\n",
    "# e.g. The year 2000:\n",
    "\n",
    "# 2000 ÷ 4 = 500 (Leap)\n",
    "# 2000 ÷ 100 = 20 (Not Leap)\n",
    "# 2000 ÷ 400 = 5 (Leap)\n",
    "\n",
    "# So the year 2000 is a leap year.\n",
    "\n",
    "# But the year 2100 is not a leap year because:\n",
    "# 2100 ÷ 4 = 525 (Leap)\n",
    "# 2100 ÷ 100 = 21 (Not Leap)\n",
    "# 2100 ÷ 400 = 5.25 (Not Leap) -->"
   ]
  },
  {
   "cell_type": "code",
   "execution_count": 55,
   "id": "fdb90e21",
   "metadata": {},
   "outputs": [
    {
     "name": "stdout",
     "output_type": "stream",
     "text": [
      "Welcome to the Roller Coaster ride!\n",
      "What is your height in cm? 160\n",
      "Congratulations, You are eligible to ride !\n",
      "What is your age? 32\n",
      "Adult ticket costs $12.\n",
      "Do you want a photo taken? Y or N? Y\n",
      "Your final bill is $15.\n"
     ]
    }
   ],
   "source": [
    "#  Multiple if statements- When you want all given conditions to be checked\n",
    "#  Exercise 7: Rollercoaster program with a bill for photo taken (Ref Ex:4 above)\n",
    "\n",
    "print(\"Welcome to the Roller Coaster ride!\")\n",
    "height = int(input(\"What is your height in cm? \"))\n",
    "# bill = 0\n",
    "\n",
    "if height >= 120:\n",
    "    print(\"Congratulations, You are eligible to ride !\")\n",
    "    age = int(input(\"What is your age? \"))\n",
    "    \n",
    "    if age < 12:\n",
    "        bill = 5\n",
    "        print(\"Child ticket costs $5.\")\n",
    "    elif age <= 18:\n",
    "        bill = 7\n",
    "        print(\"Youth ticket costs $7.\")\n",
    "    else:\n",
    "        bill = 12\n",
    "        print(\"Adult ticket costs $12.\")\n",
    "        \n",
    "    want_photo = input(\"Do you want a photo taken? Y or N? \")\n",
    "    if want_photo == \"Y\":\n",
    "        bill += 3\n",
    "    print(f\"Your final bill is ${bill}.\")\n",
    "    \n",
    "else:\n",
    "    print(\"You need to grow taller before you can ride!\")"
   ]
  },
  {
   "cell_type": "markdown",
   "id": "174798ce",
   "metadata": {},
   "source": [
    "Exercise 8: \n",
    "\n",
    "Congratulations, you've got a job at Python Pizza! Your first job is to build an automatic pizza order program.\n",
    "Based on a user's order, work out their final bill.\n",
    "\n",
    "Small pizza (S): $15 ; Medium pizza (M): $20 ; Large pizza (L): $25\n",
    "\n",
    "Add pepperoni for small pizza (Y or N): +$2 ; \n",
    "Add pepperoni for medium or large pizza (Y or N): +$3\n",
    "Add extra cheese for any size pizza (Y or N): +$1\n",
    "Example Input\n",
    "L\n",
    "Y\n",
    "N\n",
    "Example Output\n",
    "Thank you for choosing Python Pizza Deliveries!\n",
    "Your final bill is: $28."
   ]
  },
  {
   "cell_type": "code",
   "execution_count": 4,
   "id": "2cda3420",
   "metadata": {},
   "outputs": [
    {
     "name": "stdout",
     "output_type": "stream",
     "text": [
      "Thank you for choosing Python Pizza Deliveries!\n",
      "What size pizza do you want? S, M, or L\n",
      "M\n",
      "Do you want pepperoni? Y or N\n",
      "N\n",
      "Do you want extra cheese? Y or N\n",
      "Y\n",
      "Your final bill is: $21.\n"
     ]
    }
   ],
   "source": [
    "print(\"Thank you for choosing Python Pizza Deliveries!\")\n",
    "size = input(\"What size pizza do you want? S, M, or L\\n\") \n",
    "add_pepperoni = input(\"Do you want pepperoni? Y or N\\n\")  \n",
    "extra_cheese = input(\"Do you want extra cheese? Y or N\\n\")\n",
    "# 🚨 Don't change the code above 👆\n",
    "# Write your code below this line 👇\n",
    "\n",
    "bill = 0\n",
    "\n",
    "if size == \"S\":\n",
    "  bill += 15\n",
    "  if add_pepperoni == \"Y\":\n",
    "    bill += 2\n",
    "elif size == \"M\":\n",
    "  bill += 20\n",
    "  if add_pepperoni == \"Y\":\n",
    "    bill += 3\n",
    "elif size == \"L\":\n",
    "  bill += 25\n",
    "  if add_pepperoni == \"Y\":\n",
    "    bill += 3\n",
    "    \n",
    "if extra_cheese == \"Y\":\n",
    "  bill += 1\n",
    "print(f\"Your final bill is: ${bill}.\")"
   ]
  },
  {
   "cell_type": "code",
   "execution_count": 21,
   "id": "0b0baccd",
   "metadata": {},
   "outputs": [
    {
     "name": "stdout",
     "output_type": "stream",
     "text": [
      "Welcome to the Roller Coaster ride!\n",
      "What is your height in cm? 165\n",
      "Congratulations, You are eligible to ride !\n",
      "What is your age? 50\n",
      "Celebrate your mid-life transition with a free ride!\n",
      "Do you want a photo taken? Y or N? Y\n",
      "Your final bill is $3.\n"
     ]
    }
   ],
   "source": [
    "#  Exercise 9: Rollercoaster program with a bill for photo taken (Ref Ex:4 above) and free for mid-life ppl(Ages: 45-55)\n",
    "\n",
    "print(\"Welcome to the Roller Coaster ride!\")\n",
    "height = int(input(\"What is your height in cm? \"))\n",
    "bill = 0\n",
    "\n",
    "if height >= 120:\n",
    "    print(\"Congratulations, You are eligible to ride !\")\n",
    "    age = int(input(\"What is your age? \"))\n",
    "    \n",
    "    if age < 12:\n",
    "        bill = 5\n",
    "        print(\"Child ticket costs $5.\")\n",
    "    elif age <= 18:\n",
    "        bill = 7\n",
    "        print(\"Youth ticket costs $7.\")\n",
    "    else:\n",
    "        if age >= 45 and age <=55:            \n",
    "            print(\"Celebrate your mid-life transition with a free ride!\")         \n",
    "        \n",
    "        else:\n",
    "            bill = 12\n",
    "            print(\"Adult ticket costs $12.\")                  \n",
    "        \n",
    "    want_photo = input(\"Do you want a photo taken? Y or N? \")\n",
    "    if want_photo == \"Y\":\n",
    "        bill += 3\n",
    "    print(f\"Your final bill is ${bill}.\")\n",
    "    \n",
    "else:\n",
    "    print(\"You need to grow taller before you can ride!\")"
   ]
  },
  {
   "cell_type": "code",
   "execution_count": 44,
   "id": "93ed8208",
   "metadata": {},
   "outputs": [
    {
     "name": "stdout",
     "output_type": "stream",
     "text": [
      "The Love Calculator is calculating your score...\n",
      "Krishna\n",
      "Radhe\n",
      "Your score is 31.\n"
     ]
    }
   ],
   "source": [
    "# Exercise 10: Love calculator\n",
    "print(\"The Love Calculator is calculating your score...\")\n",
    "name1 = input(\"What is your name?\\n\") \n",
    "name2 = input(\"What is their name?\\n\") \n",
    "# 🚨 Don't change the code above 👆\n",
    "# Write your code below this line 👇\n",
    "\n",
    "combined_name = name1 + name2\n",
    "lower_name = combined_name.lower()\n",
    "t = lower_name.count(\"t\")\n",
    "r = lower_name.count(\"r\")\n",
    "u = lower_name.count(\"u\")\n",
    "e = lower_name.count(\"e\")\n",
    "first_digit = str(t+r+u+e)\n",
    "l = lower_name.count(\"l\")\n",
    "o = lower_name.count(\"o\")\n",
    "v = lower_name.count(\"v\")\n",
    "e = lower_name.count(\"e\")\n",
    "second_digit = str(l+o+v+e)\n",
    "score = int(first_digit + second_digit)\n",
    "\n",
    "\n",
    "if score < 10 or score > 90:\n",
    "    print(f\"Your score is {score}, you go together like coke and mentos.\")\n",
    "elif score >=40 and score <= 50:\n",
    "    print(f\"Your score is {score}, you are alright together.\")\n",
    "else:\n",
    "    print(f\"Your score is {score}.\")"
   ]
  },
  {
   "cell_type": "markdown",
   "id": "c5997732",
   "metadata": {},
   "source": [
    "# Final Project: Treasure Island\n",
    "Using ASCII art from https://ascii.co.uk/art"
   ]
  },
  {
   "cell_type": "code",
   "execution_count": 50,
   "id": "7d17fdd4",
   "metadata": {},
   "outputs": [
    {
     "name": "stdout",
     "output_type": "stream",
     "text": [
      "\n",
      "*******************************************************************************\n",
      "          |                   |                  |                     |\n",
      " _________|________________.=\"\"_;=.______________|_____________________|_______\n",
      "|                   |  ,-\"_,=\"\"     `\"=.|                  |\n",
      "|___________________|__\"=._o`\"-._        `\"=.______________|___________________\n",
      "          |                `\"=._o`\"=._      _`\"=._                     |\n",
      " _________|_____________________:=._o \"=._.\"_.-=\"'\"=.__________________|_______\n",
      "|                   |    __.--\" , ; `\"=._o.\" ,-\"\"\"-._ \".   |\n",
      "|___________________|_._\"  ,. .` ` `` ,  `\"-._\"-._   \". '__|___________________\n",
      "          |           |o`\"=._` , \"` `; .\". ,  \"-._\"-._; ;              |\n",
      " _________|___________| ;`-.o`\"=._; .\" ` '`.\"\\` . \"-._ /_______________|_______\n",
      "|                   | |o;    `\"-.o`\"=._``  '` \" ,__.--o;   |\n",
      "|___________________|_| ;     (#) `-.o `\"=.`_.--\"_o.-; ;___|___________________\n",
      "____/______/______/___|o;._    \"      `\".o|o_.--\"    ;o;____/______/______/____\n",
      "/______/______/______/_\"=._o--._        ; | ;        ; ;/______/______/______/_\n",
      "____/______/______/______/__\"=._o--._   ;o|o;     _._;o;____/______/______/____\n",
      "/______/______/______/______/____\"=._o._; | ;_.--\"o.--\"_/______/______/______/_\n",
      "____/______/______/______/______/_____\"=.o|o_.--\"\"___/______/______/______/____\n",
      "/______/______/______/______/______/______/______/______/______/______/[TomekK]\n",
      "*******************************************************************************\n",
      "\n",
      "Welcome to Treasure Island. Your mission is to find the treasure!\n",
      "To your right are lavenders and left, lilies. Choose a direction: Right or left?\n",
      " left\n",
      "Ah, Beautiful lillies all over the lake. Do you want to \"swim\" or \"wait\" for a boat?:\n",
      "wait\n",
      "Wise choice! You are now in front of 3 doors. Choose one: Blue, Red or Yellow\n",
      "red\n",
      "Tough luck mate. Room full of fire! Game over.. \n"
     ]
    }
   ],
   "source": [
    "# Exercise 11: Treasure Island\n",
    "print('''\n",
    "*******************************************************************************\n",
    "          |                   |                  |                     |\n",
    " _________|________________.=\"\"_;=.______________|_____________________|_______\n",
    "|                   |  ,-\"_,=\"\"     `\"=.|                  |\n",
    "|___________________|__\"=._o`\"-._        `\"=.______________|___________________\n",
    "          |                `\"=._o`\"=._      _`\"=._                     |\n",
    " _________|_____________________:=._o \"=._.\"_.-=\"'\"=.__________________|_______\n",
    "|                   |    __.--\" , ; `\"=._o.\" ,-\"\"\"-._ \".   |\n",
    "|___________________|_._\"  ,. .` ` `` ,  `\"-._\"-._   \". '__|___________________\n",
    "          |           |o`\"=._` , \"` `; .\". ,  \"-._\"-._; ;              |\n",
    " _________|___________| ;`-.o`\"=._; .\" ` '`.\"\\` . \"-._ /_______________|_______\n",
    "|                   | |o;    `\"-.o`\"=._``  '` \" ,__.--o;   |\n",
    "|___________________|_| ;     (#) `-.o `\"=.`_.--\"_o.-; ;___|___________________\n",
    "____/______/______/___|o;._    \"      `\".o|o_.--\"    ;o;____/______/______/____\n",
    "/______/______/______/_\"=._o--._        ; | ;        ; ;/______/______/______/_\n",
    "____/______/______/______/__\"=._o--._   ;o|o;     _._;o;____/______/______/____\n",
    "/______/______/______/______/____\"=._o._; | ;_.--\"o.--\"_/______/______/______/_\n",
    "____/______/______/______/______/_____\"=.o|o_.--\"\"___/______/______/______/____\n",
    "/______/______/______/______/______/______/______/______/______/______/[TomekK]\n",
    "*******************************************************************************\n",
    "''')\n",
    "print(\"Welcome to Treasure Island. Your mission is to find the treasure!\")\n",
    "\n",
    "choice1 = input(\"To your right are lavenders and left, lilies. Choose a direction: Right or left?\\n \")\n",
    "if choice1.lower() == \"left\":\n",
    "    choice2 = input('Ah, Beautiful lillies all over the lake. Do you want to \"swim\" or \"wait\" for a boat?:\\n')\n",
    "    \n",
    "    if choice2.lower() == \"wait\":        \n",
    "        choice3 = input(\"Wise choice! You are now in front of 3 doors. Choose one: Blue, Red or Yellow\\n\")\n",
    "        if choice3.lower() == \"blue\" or choice3.lower() == \"red\" :\n",
    "            print(\"Tough luck mate. Room full of fire! Game over.. \")\n",
    "        else:\n",
    "            print(\"It's your lucky day. The treasure is all yours! Enjoy !!\")\n",
    "    else:\n",
    "        print(\"Ha ha ha, you just got caught by hungry crocodiles. Game Over\")\n",
    "\n",
    "else:    \n",
    "    print(\"Oops, you just stepped on to a mine field covered with lavenders. Game over!\")"
   ]
  },
  {
   "cell_type": "code",
   "execution_count": null,
   "id": "d3cd29ec",
   "metadata": {},
   "outputs": [],
   "source": []
  }
 ],
 "metadata": {
  "kernelspec": {
   "display_name": "Python 3 (ipykernel)",
   "language": "python",
   "name": "python3"
  },
  "language_info": {
   "codemirror_mode": {
    "name": "ipython",
    "version": 3
   },
   "file_extension": ".py",
   "mimetype": "text/x-python",
   "name": "python",
   "nbconvert_exporter": "python",
   "pygments_lexer": "ipython3",
   "version": "3.11.3"
  }
 },
 "nbformat": 4,
 "nbformat_minor": 5
}
