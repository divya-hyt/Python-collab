{
 "cells": [
  {
   "cell_type": "markdown",
   "id": "c3ef7d7d",
   "metadata": {},
   "source": [
    "Dictionaries and Nesting - Final Project: Silent bid\n",
    "Dictionaries: Useful as they allow us to tag and group together related pieces of information\n",
    "Key(word) & value(Meaning).... Syntax:  {key: Value}\n",
    " Eg: eg_dict = {\"bug\": \"it means an error\", \"mouse\": \"a rodent\", \"baby\": \"a new born\"}"
   ]
  },
  {
   "cell_type": "code",
   "execution_count": 2,
   "id": "513ac8ca",
   "metadata": {},
   "outputs": [
    {
     "name": "stdout",
     "output_type": "stream",
     "text": [
      "The action of doing something over and over again\n",
      "Printing a number.\n"
     ]
    }
   ],
   "source": [
    "# Take care to format dictionaries to make them readable\n",
    "\n",
    "programming_dictionary = {\n",
    "    \"Bug\": \"An error in a program that prevents the program from running as expected.\", \n",
    "    \"Function\": \"A piece of code that you can easily call over and over again.\",\n",
    "    \"Loop\": \"The action of doing something over and over again\",\n",
    "    123: \"Printing a number.\",\n",
    "}\n",
    "#  to retrieve items in a dictionary- id'd by their key within []\n",
    "print(programming_dictionary[\"Loop\"])\n",
    "print(programming_dictionary[123])"
   ]
  },
  {
   "cell_type": "code",
   "execution_count": 3,
   "id": "621ae74d",
   "metadata": {},
   "outputs": [
    {
     "name": "stdout",
     "output_type": "stream",
     "text": [
      "{'Bug': 'An error in a program that prevents the program from running as expected.', 'Function': 'A piece of code that you can easily call over and over again.', 'Loop': 'The action of doing something over and over again', 123: 'Printing a number.', 'Flowers': 'Blossoms in a plant.'}\n"
     ]
    }
   ],
   "source": [
    "# Adding new items to a dictionary\n",
    "programming_dictionary[\"Flowers\"] = \"Blossoms in a plant.\"\n",
    "print(programming_dictionary)\n"
   ]
  },
  {
   "cell_type": "code",
   "execution_count": 16,
   "id": "517401af",
   "metadata": {},
   "outputs": [],
   "source": [
    "empty_list = []\n",
    "empty_dictionary = {}\n",
    "# Can add to the dictionary later using syntax in prev cell\n",
    "# You can wipe an entire dictionary using the same code\n",
    "# programming_dictionary = {}\n",
    "# print(programming_dictionary)\n"
   ]
  },
  {
   "cell_type": "code",
   "execution_count": 24,
   "id": "67305b34",
   "metadata": {},
   "outputs": [
    {
     "name": "stdout",
     "output_type": "stream",
     "text": [
      "{'Bug': 'Simply an error.', 'Function': 'A piece of code that you can easily call over and over again.', 'Loop': 'The action of doing something over and over again', 123: 'printing a number', 'flowers': 'Blossoms in a plant.'}\n"
     ]
    }
   ],
   "source": [
    "#Editing items in a dictionary- same as adding a new item\n",
    "programming_dictionary[\"Bug\"] = \"Simply an error.\"\n",
    "print(programming_dictionary)\n",
    "# The code 1st looks for an existing equivalent in dict, if present- edits the value, else adds a new key:Value pair"
   ]
  },
  {
   "cell_type": "code",
   "execution_count": 26,
   "id": "8bcc174a",
   "metadata": {},
   "outputs": [
    {
     "name": "stdout",
     "output_type": "stream",
     "text": [
      "Bug\n",
      "Simply an error.\n",
      "Function\n",
      "A piece of code that you can easily call over and over again.\n",
      "Loop\n",
      "The action of doing something over and over again\n",
      "123\n",
      "printing a number\n",
      "flowers\n",
      "Blossoms in a plant.\n"
     ]
    }
   ],
   "source": [
    "# Looping through a dictionary\n",
    "for key in programming_dictionary:\n",
    "    print(key)\n",
    "    print(programming_dictionary[key])"
   ]
  },
  {
   "cell_type": "code",
   "execution_count": 28,
   "id": "b0df33dd",
   "metadata": {},
   "outputs": [
    {
     "name": "stdout",
     "output_type": "stream",
     "text": [
      "{'Harry': 'Exceeds Expectations', 'Ron': 'Acceptable', 'Hermione': 'Outstanding', 'Draco': 'Acceptable', 'Neville': 'Fail'}\n"
     ]
    }
   ],
   "source": [
    "#Ex:1 Grading program\n",
    "student_scores = {\n",
    "  \"Harry\": 81,\n",
    "  \"Ron\": 78,\n",
    "  \"Hermione\": 99, \n",
    "  \"Draco\": 74,\n",
    "  \"Neville\": 62,\n",
    "}\n",
    "# 🚨 Don't change the code above 👆\n",
    "# TODO-1: Create an empty dictionary called student_grades.\n",
    "student_grades = {}\n",
    "\n",
    "# TODO-2: Write your code below to add the grades to student_grades.👇\n",
    "# This is the scoring criteria: Scores 91 - 100: Grade = \"Outstanding\", Scores 81 - 90: Grade = \"Exceeds Expectations\"\n",
    "# Scores 71 - 80: Grade = \"Acceptable\", Scores 70 or lower: Grade = \"Fail\"\n",
    "\n",
    "for score in student_scores:\n",
    "    if student_scores[score] > 90 and student_scores[score] <= 100:\n",
    "        student_grades[score] = \"Outstanding\"\n",
    "    elif student_scores[score] > 80 and student_scores[score] <= 90:\n",
    "        student_grades[score] = \"Exceeds Expectations\"\n",
    "    elif student_scores[score] > 70 and student_scores[score] <= 80:\n",
    "        student_grades[score] = \"Acceptable\"\n",
    "    else:\n",
    "        student_grades[score] = \"Fail\"\n",
    "        \n",
    "\n",
    "# 🚨 Don't change the code below 👇\n",
    "print(student_grades)"
   ]
  },
  {
   "cell_type": "code",
   "execution_count": 29,
   "id": "56d4b838",
   "metadata": {},
   "outputs": [
    {
     "name": "stdout",
     "output_type": "stream",
     "text": [
      "62\n",
      "{'Harry': 'Exceeds Expectations', 'Ron': 'Acceptable', 'Hermione': 'Outstanding', 'Draco': 'Acceptable', 'Neville': 'Fail'}\n"
     ]
    }
   ],
   "source": [
    "#  A more refined version\n",
    "# TODO-2: Covert scores into grades.\n",
    "\n",
    "for student in student_scores:\n",
    "  score = student_scores[student]\n",
    "  if score > 90:\n",
    "    student_grades[student] = \"Outstanding\"\n",
    "  elif score > 80:\n",
    "    student_grades[student] = \"Exceeds Expectations\"\n",
    "  elif score > 70:\n",
    "    student_grades[student] = \"Acceptable\"\n",
    "  else:\n",
    "    student_grades[student] = \"Fail\"\n",
    "    \n",
    "print (score)    \n",
    "print(student_grades)"
   ]
  },
  {
   "cell_type": "code",
   "execution_count": null,
   "id": "329902f3",
   "metadata": {},
   "outputs": [],
   "source": [
    "# Next concept: Nesting\n",
    "sample = {\n",
    "    Key1: [List],\n",
    "    Key2: {dictionary},\n",
    "}\n",
    "\n",
    "capitals = {\n",
    "  \"France\": \"Paris\",\n",
    "  \"Germany\": \"Berlin\",\n",
    "}\n",
    "\n",
    "#Nesting a List in a Dictionary\n",
    "\n",
    "travel_log = {\n",
    "  \"France\": [\"Paris\", \"Lille\", \"Dijon\"],\n",
    "  \"Germany\": [\"Berlin\", \"Hamburg\", \"Stuttgart\"],\n",
    "}\n",
    "\n",
    "#Nesting Dictionary in a Dictionary\n",
    "\n",
    "travel_log = {\n",
    "  \"France\": {\"cities_visited\": [\"Paris\", \"Lille\", \"Dijon\"], \"total_visits\": 12},\n",
    "  \"Germany\": {\"cities_visited\": [\"Berlin\", \"Hamburg\", \"Stuttgart\"], \"total_visits\": 5},\n",
    "}\n"
   ]
  },
  {
   "cell_type": "code",
   "execution_count": null,
   "id": "7dc5d074",
   "metadata": {},
   "outputs": [],
   "source": [
    "\n",
    "#Nesting Dictionaries in Lists- here my list has 2 dictionaries\n",
    "\n",
    "Nested_list = [{\n",
    "    Key1: [List],\n",
    "    Key2: {dictionary}\n",
    "    },\n",
    "    {\n",
    "        Key: value,\n",
    "        Key2: Value,\n",
    "    }]\n",
    "\n",
    "travel_log = [\n",
    "{\n",
    "  \"country\": \"France\", \n",
    "  \"cities_visited\": [\"Paris\", \"Lille\", \"Dijon\"], \n",
    "  \"total_visits\": 12,\n",
    "},\n",
    "{\n",
    "  \"country\": \"Germany\",\n",
    "  \"cities_visited\": [\"Berlin\", \"Hamburg\", \"Stuttgart\"],\n",
    "  \"total_visits\": 5,\n",
    "},\n",
    "]"
   ]
  },
  {
   "cell_type": "code",
   "execution_count": 7,
   "id": "70d1f4bd",
   "metadata": {},
   "outputs": [
    {
     "name": "stdout",
     "output_type": "stream",
     "text": [
      "Enter the country's name!\n",
      "India\n",
      "How many times have you visited it? \n",
      "5\n",
      "What are the different cities visited there?\n",
      "\"Delhi\", \"Coimbatore\", \"Bangalore\"\n",
      "I've been to India 5 times.\n",
      "My favourite city was Delhi.\n"
     ]
    }
   ],
   "source": [
    "# You are going to write a program that adds to a travel_log. You can see a travel_log which is a List that contains 2 Dictionaries. Your job is to create a function that can add new countries to this list.\n",
    "\n",
    "# Write a function that will work with the following line of code on line 21 to add the entry for Brazil to the travel_log.\n",
    "\n",
    "# add_new_country(\"Brazil\", 5, [\"Sao Paulo\", \"Rio de Janeiro])\n",
    "\n",
    "country = input(\"Enter the country's name!\\n\") # Add country name\n",
    "visits = int(input(\"How many times have you visited it? \\n\")) # Number of visits\n",
    "list_of_cities = eval(input(\"What are the different cities visited there?\\n\")) # create list from formatted string\n",
    "\n",
    "travel_log = [\n",
    "  {\n",
    "    \"country\": \"France\",\n",
    "    \"visits\": 12,\n",
    "    \"cities\": [\"Paris\", \"Lille\", \"Dijon\"]\n",
    "  },\n",
    "  {\n",
    "    \"country\": \"Germany\",\n",
    "    \"visits\": 5,\n",
    "    \"cities\": [\"Berlin\", \"Hamburg\", \"Stuttgart\"]\n",
    "  },\n",
    "]\n",
    "# Do NOT change the code above 👆\n",
    "\n",
    "# TODO: Write the function that will allow new countries\n",
    "# to be added to the travel_log. \n",
    "def add_new_country(country_name, times_visited, city_names):\n",
    "    new_country = {\n",
    "        \"country\": country_name,\n",
    "        \"visits\": times_visited,\n",
    "        \"cities\": city_names\n",
    "    }\n",
    "    travel_log.append(new_country)\n",
    "\n",
    "# Do not change the code below 👇\n",
    "add_new_country(country, visits, list_of_cities)\n",
    "print(f\"I've been to {travel_log[2]['country']} {travel_log[2]['visits']} times.\")\n",
    "print(f\"My favourite city was {travel_log[2]['cities'][0]}.\")"
   ]
  },
  {
   "cell_type": "code",
   "execution_count": 10,
   "id": "f3ff9089",
   "metadata": {},
   "outputs": [
    {
     "name": "stdout",
     "output_type": "stream",
     "text": [
      "What are the different cities visited there?\n",
      "[\"Delhi\", \"Coimbatore\", \"Bangalore\"]\n",
      "['Delhi', 'Coimbatore', 'Bangalore']\n",
      "Delhi\n"
     ]
    }
   ],
   "source": [
    "list_of_cities = eval(input(\"What are the different cities visited there?\\n\"))\n",
    "print(list_of_cities)\n",
    "print(list_of_cities[0])"
   ]
  },
  {
   "cell_type": "code",
   "execution_count": 10,
   "id": "04eb5f68",
   "metadata": {},
   "outputs": [
    {
     "name": "stdout",
     "output_type": "stream",
     "text": [
      "Enter the additional num \n",
      "5\n",
      "[1, 2, 3, 4, 5]\n",
      "[1, 2, 3, 4, 5, 6, 7]\n"
     ]
    }
   ],
   "source": [
    "list_num = [1,2,3,4]\n",
    "ad = int(input(\"Enter the additional num \\n\"))\n",
    "list_num.append(ad)\n",
    "print (list_num)\n",
    "list_num.extend([6,7])\n",
    "print (list_num)"
   ]
  },
  {
   "cell_type": "code",
   "execution_count": 15,
   "id": "08f7d53e",
   "metadata": {},
   "outputs": [
    {
     "name": "stdout",
     "output_type": "stream",
     "text": [
      "{'a': 1, 'b': 2, 'c': 3, 1: 4}\n"
     ]
    }
   ],
   "source": [
    "dict = {\n",
    "    \"a\": 1,\n",
    "    \"b\": 2,\n",
    "    \"c\": 3,\n",
    "}\n",
    "dict[1] = 4\n",
    "print(dict)"
   ]
  },
  {
   "cell_type": "code",
   "execution_count": 20,
   "id": "cd4ba3ec",
   "metadata": {},
   "outputs": [
    {
     "name": "stdout",
     "output_type": "stream",
     "text": [
      "['Steak']\n",
      "Steak\n"
     ]
    }
   ],
   "source": [
    "order = {\n",
    "    \"starter\": {1: \"Salad\", 2: \"Soup\"},\n",
    "    \"main\": {1: [\"Burger\", \"Fries\"], 2: [\"Steak\"]},\n",
    "    \"dessert\": {1: [\"Ice Cream\"], 2: []},\n",
    "}\n",
    "print(order[\"main\"][2])\n",
    "print(order[\"main\"][2][0])"
   ]
  },
  {
   "cell_type": "code",
   "execution_count": 14,
   "id": "ab74e9bb",
   "metadata": {},
   "outputs": [
    {
     "name": "stdout",
     "output_type": "stream",
     "text": [
      "Enter the bidder's name!\n",
      "Shar\n",
      "What is your bid amount in INR?\n",
      "500\n",
      "Are there more bidders?\n",
      "no\n",
      "The winner is Shar and their bid_amount is Rs.500\n",
      "Would you like to see the bidding details? Type 'y' or 'n': y\n",
      "The entire list of bidders is : {'Divya': 250, 'Syls': 300, 'Shar': 500}\n"
     ]
    }
   ],
   "source": [
    "#Final project: Silent auction- displays the winner at the end\n",
    "from IPython.display import clear_output\n",
    "\n",
    "bid_dict = {}\n",
    "\n",
    "def silent_bid(dict):    \n",
    "    max_bid = 0        \n",
    "    for key in dict:\n",
    "        if dict[key] > max_bid:\n",
    "            max_bid = dict[key]\n",
    "            winner = key  \n",
    "    print(f\"The winner is {winner} and their bid_amount is Rs.{max_bid}\")\n",
    "    \n",
    "\n",
    "add_bidder = True\n",
    "while add_bidder:\n",
    "    bidder = input(\"Enter the bidder's name!\\n\")\n",
    "    bid_amt = int(input(\"What is your bid amount in INR?\\n\"))\n",
    "    bid_dict[bidder] = bid_amt\n",
    "    check = input(\"Are there more bidders?\\n\")\n",
    "    if check.lower() == \"no\":\n",
    "        add_bidder = False\n",
    "        silent_bid(bid_dict)\n",
    "    \n",
    "    elif check.lower() == \"yes\":\n",
    "        clear_output()\n",
    "        \n",
    "    else:\n",
    "        print(\"Enter a valid option.\")\n",
    "        \n",
    "chk = input(\"Would you like to see the bidding details? Type 'y' or 'n': \")\n",
    "if chk == \"y\":\n",
    "    print(f\"The entire list of bidders is : {bid_dict}\")\n",
    "else:\n",
    "    print(\"Thank you!\")\n",
    "   \n",
    "   \n",
    "\n",
    "#  Check the finer version in jupyter lab\n",
    "#  pythontutor.com helps visualize codes"
   ]
  },
  {
   "cell_type": "code",
   "execution_count": null,
   "id": "2c6b04f8",
   "metadata": {},
   "outputs": [],
   "source": []
  }
 ],
 "metadata": {
  "kernelspec": {
   "display_name": "Python 3 (ipykernel)",
   "language": "python",
   "name": "python3"
  },
  "language_info": {
   "codemirror_mode": {
    "name": "ipython",
    "version": 3
   },
   "file_extension": ".py",
   "mimetype": "text/x-python",
   "name": "python",
   "nbconvert_exporter": "python",
   "pygments_lexer": "ipython3",
   "version": "3.11.3"
  }
 },
 "nbformat": 4,
 "nbformat_minor": 5
}
