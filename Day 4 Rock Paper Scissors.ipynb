{
 "cells": [
  {
   "cell_type": "markdown",
   "id": "223203ff",
   "metadata": {},
   "source": [
    "# Day 4: Randomisation and Python lists"
   ]
  },
  {
   "cell_type": "markdown",
   "id": "046f205f",
   "metadata": {},
   "source": [
    "Random module imported from Python using: import random ---\n",
    "randint(x,y) --> This func specifies range b/w 2 integers, including those integers\n",
    "random() --> returns a random float b/w 0 and 1"
   ]
  },
  {
   "cell_type": "code",
   "execution_count": 30,
   "id": "962ebb2e",
   "metadata": {},
   "outputs": [
    {
     "name": "stdout",
     "output_type": "stream",
     "text": [
      "10\n",
      "0.28318143888473135\n"
     ]
    }
   ],
   "source": [
    "# Exercise: 1 To print a random integer everytime\n",
    "import random\n",
    "a = random.randint(1,10)\n",
    "print(a)\n",
    "\n",
    "b = random.random()\n",
    "print(b)"
   ]
  },
  {
   "cell_type": "code",
   "execution_count": 27,
   "id": "d09fee1d",
   "metadata": {},
   "outputs": [
    {
     "name": "stdout",
     "output_type": "stream",
     "text": [
      "4.146170665237251\n"
     ]
    }
   ],
   "source": [
    "# Exercise 2: Print a random decimal number b/w 0 and 5\n",
    "c = random.random()\n",
    "print(c * 5) #5 being the max in the specified range"
   ]
  },
  {
   "cell_type": "code",
   "execution_count": 20,
   "id": "7a5e53f2",
   "metadata": {},
   "outputs": [
    {
     "name": "stdout",
     "output_type": "stream",
     "text": [
      "Let's go! Heads or tails?\n",
      "Heads\n",
      "Alright, let's toss the coin...\n",
      "And it is...Heads. You win!\n"
     ]
    }
   ],
   "source": [
    "# Exercise 3: Heads or tails\n",
    "import random\n",
    "a = (input(\"Let's go! Heads or tails?\\n\")).lower()\n",
    "print(\"Alright, let's toss the coin...\")\n",
    "r = random.randint(0,1)\n",
    "if r == 0:\n",
    "    b = \"Heads\"\n",
    "    if a == b.lower():\n",
    "        print(f\"And it is...{b}. You win!\")\n",
    "    else:\n",
    "        print(f\"And it is...{b}. You lose!\")\n",
    "else:\n",
    "    b = \"Tails\"\n",
    "    if a == b.lower():\n",
    "        print(f\"And it is...{b}. You win!\")\n",
    "    else:\n",
    "        print(f\"And it is...{b}. You lose!\")\n"
   ]
  },
  {
   "cell_type": "markdown",
   "id": "b18d3cb8",
   "metadata": {},
   "source": [
    "Exercise 4:\n",
    "You are going to write a program that will select a random name from a list of names. The person selected will have to pay for everybody's food bill.\n",
    "\n",
    "Important: You are not allowed to use the choice() function.\n",
    "\n",
    "Line 1 splits the string names_string into individual names and puts them inside a List called names. For this to work, you must enter all the names as names followed by comma then space. e.g. name, name, name\n",
    "\n",
    "NOTE: Don't worry about getting hold of the input(), we've done the work behind the scenes to import everything.\n",
    "\n",
    "HINT: Assume that names looks like this: input: x, y, z, names = [\"x\", \"y\", \"z\"]\n",
    "\n",
    "Example Input\n",
    "Angela, Ben, Jenny, Michael, Chloe\n",
    "Note: notice that there is a space between the comma and the next name.\n",
    "\n",
    "Example Output\n",
    "Michael is going to buy the meal today!"
   ]
  },
  {
   "cell_type": "code",
   "execution_count": 36,
   "id": "a16ce7af",
   "metadata": {},
   "outputs": [
    {
     "name": "stdout",
     "output_type": "stream",
     "text": [
      "Enter the first names of your gang. Separate by comma & space!\n",
      "Aki, Sindhu, Shar\n",
      "Aki is going to buy the meal today!\n"
     ]
    }
   ],
   "source": [
    "names_string = input(\"Enter the first names of your gang. Separate by comma & space!\\n\")\n",
    "names = names_string.split(\", \")\n",
    "# print(names)\n",
    "# The code above converts the input into an array seperating each name in the input by a comma and space.\n",
    "# 🚨 Don't change the code above 👆\n",
    "import random\n",
    "x = len(names)\n",
    "a = random.randint(0, x-1)\n",
    "b = names[a]\n",
    "print(f\"{b} is going to buy the meal today!\")"
   ]
  },
  {
   "cell_type": "code",
   "execution_count": 37,
   "id": "a3247311",
   "metadata": {},
   "outputs": [
    {
     "name": "stdout",
     "output_type": "stream",
     "text": [
      "[['berries', 'Apples', 'Grapes', 'Potatoes', 'Tomatoes', 'Spinach']]\n"
     ]
    }
   ],
   "source": [
    "# Nested lists: Lists within lists. (Eg. remember the dirty_dozen eg: fruits & veges laden with pesticides)\n",
    "# dirty_halfdozen = [\"berries\", \"Apples\", \"Grapes\", \"Potatoes\", \"Tomatoes\", \"Spinach\"]\n",
    "Fruits = [\"berries\", \"Apples\", \"Grapes\"]\n",
    "Veges = [\"Potatoes\", \"Tomatoes\", \"Spinach\"]\n",
    "dirty_halfdozen = [Fruits + Veges]\n",
    "print(dirty_halfdozen)"
   ]
  },
  {
   "cell_type": "code",
   "execution_count": 40,
   "id": "3dd74a17",
   "metadata": {},
   "outputs": [
    {
     "name": "stdout",
     "output_type": "stream",
     "text": [
      "[['Strawberries', 'Nectarines', 'Apples', 'Grapes', 'Peaches', 'Cherries', 'Pears'], ['Spinach', 'Kale', 'Tomatoes', 'Celery', 'Potatoes']]\n",
      "Kale\n",
      "Peaches\n",
      "['Spinach', 'Kale', 'Tomatoes', 'Celery', 'Potatoes']\n"
     ]
    }
   ],
   "source": [
    "fruits = [\"Strawberries\", \"Nectarines\", \"Apples\", \"Grapes\", \"Peaches\", \"Cherries\", \"Pears\"]\n",
    "vegetables = [\"Spinach\", \"Kale\", \"Tomatoes\", \"Celery\", \"Potatoes\"]\n",
    " \n",
    "dirty_dozen = [fruits, vegetables]\n",
    "\n",
    "print(dirty_dozen) \n",
    "print(dirty_dozen[1][1])\n",
    "print(dirty_dozen[0][4])\n",
    "print(dirty_dozen[1])"
   ]
  },
  {
   "cell_type": "code",
   "execution_count": 4,
   "id": "a677df94",
   "metadata": {},
   "outputs": [
    {
     "name": "stdout",
     "output_type": "stream",
     "text": [
      "2\n",
      "1\n"
     ]
    }
   ],
   "source": [
    "# Python list index() method\n",
    "\n",
    "fruits = ['apple', 'banana', 'cherry']\n",
    "x = fruits.index(\"cherry\")\n",
    "y = fruits.index(fruits[1])\n",
    "print(x)\n",
    "print(y)"
   ]
  },
  {
   "cell_type": "code",
   "execution_count": 2,
   "id": "b27eb637",
   "metadata": {},
   "outputs": [
    {
     "name": "stdout",
     "output_type": "stream",
     "text": [
      "Hiding your treasure! X marks the spot.\n",
      "Where do you want to put the treasure: A1,A2,A3,B1,B2,B3,C1,C2 or C3? \n",
      "B3\n",
      "['⬜️', '️⬜️', '️⬜️']\n",
      "['⬜️', '⬜️', '️⬜️']\n",
      "['⬜️️', 'X', '⬜️️']\n"
     ]
    }
   ],
   "source": [
    "# First, your program must take the user input (A1, A2, A3..)and convert it to a usable format.\n",
    "# Next, you need to use that input to update your nested list with an \"X\"\n",
    "line1 = [\"⬜️\",\"️⬜️\",\"️⬜️\"]\n",
    "line2 = [\"⬜️\",\"⬜️\",\"️⬜️\"]\n",
    "line3 = [\"⬜️️\",\"⬜️️\",\"⬜️️\"]\n",
    "map = [line1, line2, line3]\n",
    "print(\"Hiding your treasure! X marks the spot.\")\n",
    "position = input(\"Where do you want to put the treasure: A1,A2,A3,B1,B2,B3,C1,C2 or C3? \\n\") \n",
    "# 🚨 Don't change the code above 👆\n",
    "# Write your code below this row 👇\n",
    "\n",
    "if position[0] == \"A\":\n",
    "\n",
    "    if position[1] == \"1\":     \n",
    "        line1[0] = \"X\"\n",
    "    elif position[1] == \"2\":\n",
    "        line2[0] = \"X\"\n",
    "    else:\n",
    "        line3[0] = \"X\"\n",
    "        \n",
    "elif position[0] == \"B\":\n",
    "    if position[1] == \"1\":     \n",
    "        line1[1] = \"X\"\n",
    "    elif position[1] == \"2\":\n",
    "        line2[1] = \"X\"\n",
    "    else:\n",
    "        line3[1] = \"X\"\n",
    "        \n",
    "elif position[0] == \"C\":\n",
    "    if position[1] == \"1\":\n",
    "        line1[2] = \"X\"\n",
    "    elif position[1] == \"2\":\n",
    "        line2[2] = \"X\"\n",
    "    else:\n",
    "        line3[2] = \"X\"\n",
    "\n",
    "else:\n",
    "    print(\"Invalid input!\")\n",
    "    \n",
    "print(f\"{line1}\\n{line2}\\n{line3}\")\n",
    "# print(map)\n"
   ]
  },
  {
   "cell_type": "code",
   "execution_count": 4,
   "id": "56a21d9d",
   "metadata": {},
   "outputs": [
    {
     "name": "stdout",
     "output_type": "stream",
     "text": [
      "Hiding your treasure! X marks the spot.\n",
      "Where do you want to put the treasure?\n",
      "c3\n",
      "['⬜️', '️⬜️', '️⬜️']\n",
      "['⬜️', '⬜️', '️⬜️']\n",
      "['⬜️️', '⬜️️', 'X']\n",
      "[['⬜️', '️⬜️', '️⬜️'], ['⬜️', '⬜️', '️⬜️'], ['⬜️️', '⬜️️', 'X']]\n",
      "X\n"
     ]
    }
   ],
   "source": [
    "#  We can write a concise version of above using the index() method\n",
    "line1 = [\"⬜️\",\"️⬜️\",\"️⬜️\"]\n",
    "line2 = [\"⬜️\",\"⬜️\",\"️⬜️\"]\n",
    "line3 = [\"⬜️️\",\"⬜️️\",\"⬜️️\"]\n",
    "map = [line1, line2, line3] # nested list\n",
    "print(\"Hiding your treasure! X marks the spot.\")\n",
    "position = input(\"Where do you want to put the treasure?\\n\")\n",
    "\n",
    "letter = position[0].lower()\n",
    "abc = [\"a\", \"b\", \"c\"]\n",
    "letter_index = abc.index(letter)\n",
    "number_index = int(position[1]) - 1\n",
    "map[number_index][letter_index] = \"X\"\n",
    "\n",
    "print(f\"{line1}\\n{line2}\\n{line3}\")\n",
    "print(map)\n",
    "print(map[2][2])"
   ]
  },
  {
   "cell_type": "markdown",
   "id": "b86c0433",
   "metadata": {},
   "source": [
    "# Final Project: Rock, Paper, Scissors\n",
    "Using ASCII art from https://ascii.co.uk/art\n",
    "3 Basic Rules:\n",
    " 1. Rock wins against scissors.\n",
    " 2. Scissors win against paper.\n",
    " 3. Paper wins against rock."
   ]
  },
  {
   "cell_type": "code",
   "execution_count": 6,
   "id": "2a43b847",
   "metadata": {
    "scrolled": true
   },
   "outputs": [
    {
     "name": "stdout",
     "output_type": "stream",
     "text": [
      "What do you choose? Type 0 for Rock, 1 for Paper and 2 for scissors:\n",
      "0\n",
      "Your choice is \n",
      "    _______\n",
      "---'   ____)\n",
      "      (_____)\n",
      "      (_____)\n",
      "      (____)\n",
      "---.__(___)\n",
      "\n",
      "Computer choice is: \n",
      "    _______\n",
      "---'   ____)____\n",
      "          ______)\n",
      "          _______)\n",
      "         _______)\n",
      "---.__________)\n",
      "\n",
      "You lose!\n"
     ]
    }
   ],
   "source": [
    "r = '''\n",
    "    _______\n",
    "---'   ____)\n",
    "      (_____)\n",
    "      (_____)\n",
    "      (____)\n",
    "---.__(___)\n",
    "'''\n",
    "\n",
    "p = '''\n",
    "    _______\n",
    "---'   ____)____\n",
    "          ______)\n",
    "          _______)\n",
    "         _______)\n",
    "---.__________)\n",
    "'''\n",
    "\n",
    "s = '''\n",
    "    _______\n",
    "---'   ____)____\n",
    "          ______)\n",
    "       __________)\n",
    "      (____)\n",
    "---.__(___)\n",
    "'''\n",
    "\n",
    "#Write your code below this line 👇\n",
    "# choices = [r, p, s]\n",
    "# print(choices[0], choices[1], choices[2])\n",
    "\n",
    "choices = [r, p, s]\n",
    "\n",
    "user_choice = int(input(\"What do you choose? Type 0 for Rock, 1 for Paper and 2 for scissors:\\n\"))\n",
    "\n",
    "if (user_choice < 0) or (user_choice > 2):\n",
    "    print(\"But that is an invalid choice. You lose!\")\n",
    "else:\n",
    "    user_choice = choices[user_choice]\n",
    "    print(f\"Your choice is {user_choice}\")    \n",
    "\n",
    "    import random\n",
    "#     computer_choice = choices[random.randint(0,2)]\n",
    "    computer_choice = random.choice(choices)\n",
    "    print(f\"Computer choice is: {computer_choice}\")\n",
    "\n",
    "    if (user_choice == choices[0] and computer_choice == choices[2]) or (user_choice == choices[2] and computer_choice == choices[1]) or (user_choice == choices[1] and computer_choice == choices[0]):\n",
    "        print(\"You win!\")\n",
    "    elif (user_choice == computer_choice):\n",
    "        print(\"Oops, it's a Draw!\")\n",
    "    else :\n",
    "        print(\"You lose!\")\n"
   ]
  },
  {
   "cell_type": "code",
   "execution_count": null,
   "id": "92ad934d",
   "metadata": {},
   "outputs": [],
   "source": []
  },
  {
   "cell_type": "code",
   "execution_count": null,
   "id": "7c4ac872",
   "metadata": {},
   "outputs": [],
   "source": []
  }
 ],
 "metadata": {
  "kernelspec": {
   "display_name": "Python 3 (ipykernel)",
   "language": "python",
   "name": "python3"
  },
  "language_info": {
   "codemirror_mode": {
    "name": "ipython",
    "version": 3
   },
   "file_extension": ".py",
   "mimetype": "text/x-python",
   "name": "python",
   "nbconvert_exporter": "python",
   "pygments_lexer": "ipython3",
   "version": "3.11.3"
  }
 },
 "nbformat": 4,
 "nbformat_minor": 5
}
