{
 "cells": [
  {
   "cell_type": "markdown",
   "id": "feb727b2",
   "metadata": {},
   "source": [
    "# Day 8: Functions with inputs, Arguments & Parameters"
   ]
  },
  {
   "cell_type": "code",
   "execution_count": 2,
   "id": "b3ae9293",
   "metadata": {},
   "outputs": [
    {
     "name": "stdout",
     "output_type": "stream",
     "text": [
      "Hello, here we are at Day 8!\n",
      "Things are heating up and..\n",
      "I really like how they are taking shape!\n"
     ]
    }
   ],
   "source": [
    "#Review of functions:\n",
    "def greet():\n",
    "    print(\"Hello, here we are at Day 8!\")\n",
    "    print(\"Things are heating up and..\")\n",
    "    print(\"I really like how they are taking shape!\")\n",
    "greet()"
   ]
  },
  {
   "cell_type": "code",
   "execution_count": 5,
   "id": "a554c554",
   "metadata": {},
   "outputs": [
    {
     "name": "stdout",
     "output_type": "stream",
     "text": [
      "Namaskaram Mahati!\n",
      "How is the weather in Chennai?\n"
     ]
    }
   ],
   "source": [
    "# Function with input- Parameter (variable) and Argument(value/data passed as input)\n",
    "\n",
    "def greet_with_name(name, city):\n",
    "    print(f\"Namaskaram {name}!\")\n",
    "    print(f\"How is the weather in {city}?\")\n",
    "    \n",
    "greet_with_name(\"Mahati\", \"Chennai\") \n",
    "# These are Positional arguments- default way of calling the fn- \n",
    "#they just take positions in specified order"
   ]
  },
  {
   "cell_type": "code",
   "execution_count": 1,
   "id": "825d14aa",
   "metadata": {},
   "outputs": [
    {
     "name": "stdout",
     "output_type": "stream",
     "text": [
      "Namaskaram Mahati!\n",
      "How is the weather in Chennai?\n"
     ]
    }
   ],
   "source": [
    "# Functions with keyword arguments\n",
    "\n",
    "def greetings(name, city):\n",
    "    print(f\"Namaskaram {name}!\")\n",
    "    print(f\"How is the weather in {city}?\")\n",
    "    \n",
    "greetings(city = \"Chennai\", name = \"Mahati\") "
   ]
  },
  {
   "cell_type": "code",
   "execution_count": 11,
   "id": "c376a82d",
   "metadata": {},
   "outputs": [
    {
     "name": "stdout",
     "output_type": "stream",
     "text": [
      "Please enter height of wall in metres: 4\n",
      "Please enter width of wall in metres: 9\n",
      "You'll need 8 cans of paint.\n"
     ]
    }
   ],
   "source": [
    "#Exercise 1- paint area calculator\n",
    "# You are painting a wall. \n",
    "# The instructions on the paint can says that 1 can of paint can cover 5 square meters of wall. \n",
    "# Given a random height and width of wall, calculate how many cans of paint you'll need to buy.\n",
    "# number of cans = (wall height x wall width) ÷ coverage per can.\n",
    "# math. ceil() method rounds a number UP to the nearest integer, if necessary, and returns the result. \n",
    "# Tip: To round a number DOWN to the nearest integer, look at the math. floor() method\n",
    "\n",
    "# Write your code below this line 👇\n",
    "\n",
    "import math\n",
    "def paint_calc(height, width, cover):\n",
    "    cans = math.ceil((height * width)/cover) # \n",
    "    print(f\"You'll need {cans} cans of paint.\")\n",
    "\n",
    "# Write your code above this line 👆\n",
    "# Define a function called paint_calc() so the code below works.   \n",
    "\n",
    "# 🚨 Don't change the code below 👇\n",
    "test_h = int(input(\"Please enter height of wall in metres: \")) \n",
    "test_w = int(input(\"Please enter width of wall in metres: \")) \n",
    "coverage = 5\n",
    "paint_calc(height=test_h, width=test_w, cover=coverage)\n"
   ]
  },
  {
   "cell_type": "code",
   "execution_count": 33,
   "id": "1d28320c",
   "metadata": {},
   "outputs": [
    {
     "name": "stdout",
     "output_type": "stream",
     "text": [
      "56\n",
      "It's not a prime number.\n"
     ]
    }
   ],
   "source": [
    "#Exercise 2- Function to check prime number\n",
    "# Write your code below this line 👇\n",
    "def prime_checker(number):\n",
    "    \n",
    "    is_prime = True\n",
    "       \n",
    "    for i in range(2, number):\n",
    "        if number % i == 0:\n",
    "            is_prime = False\n",
    "            \n",
    "    if is_prime:\n",
    "        print(\"It's a prime number.\")\n",
    "    else:\n",
    "        print(\"It's not a prime number.\")\n",
    "\n",
    "\n",
    "# Write your code above this line 👆\n",
    "    \n",
    "#Do NOT change any of the code below👇\n",
    "n = int(input()) # Check this number\n",
    "prime_checker(number=n)"
   ]
  },
  {
   "cell_type": "markdown",
   "id": "e5998b18",
   "metadata": {},
   "source": [
    "#Exercise 3: Final project: Caesar's cipher"
   ]
  },
  {
   "cell_type": "code",
   "execution_count": 10,
   "id": "bbb1b062",
   "metadata": {},
   "outputs": [
    {
     "name": "stdout",
     "output_type": "stream",
     "text": [
      "Type 'encode' to encrypt, type 'decode' to decrypt:\n",
      "encode\n",
      "Type your message:\n",
      "hello\n",
      "Type the shift number:\n",
      "2\n"
     ]
    },
    {
     "ename": "NameError",
     "evalue": "name 'j' is not defined",
     "output_type": "error",
     "traceback": [
      "\u001b[1;31m---------------------------------------------------------------------------\u001b[0m",
      "\u001b[1;31mNameError\u001b[0m                                 Traceback (most recent call last)",
      "Cell \u001b[1;32mIn[10], line 19\u001b[0m\n\u001b[0;32m     16\u001b[0m             enc_text \u001b[38;5;241m+\u001b[39m\u001b[38;5;241m=\u001b[39m i\n\u001b[0;32m     17\u001b[0m     \u001b[38;5;28mprint\u001b[39m(\u001b[38;5;124mf\u001b[39m\u001b[38;5;124m\"\u001b[39m\u001b[38;5;124mThe encrypted text is \u001b[39m\u001b[38;5;132;01m{\u001b[39;00menc_text\u001b[38;5;132;01m}\u001b[39;00m\u001b[38;5;124m\"\u001b[39m)\n\u001b[1;32m---> 19\u001b[0m encrypt(text, shift)\n",
      "Cell \u001b[1;32mIn[10], line 13\u001b[0m, in \u001b[0;36mencrypt\u001b[1;34m(msg, num)\u001b[0m\n\u001b[0;32m     11\u001b[0m text_lst \u001b[38;5;241m=\u001b[39m  \u001b[38;5;28mlist\u001b[39m(msg)\n\u001b[0;32m     12\u001b[0m enc_text \u001b[38;5;241m=\u001b[39m \u001b[38;5;124m\"\u001b[39m\u001b[38;5;124m\"\u001b[39m\n\u001b[1;32m---> 13\u001b[0m \u001b[38;5;28;01mfor\u001b[39;00m i \u001b[38;5;129;01min\u001b[39;00m text_lst \u001b[38;5;129;01mand\u001b[39;00m j \u001b[38;5;129;01min\u001b[39;00m alphabet:\n\u001b[0;32m     14\u001b[0m     \u001b[38;5;28;01mif\u001b[39;00m i \u001b[38;5;241m==\u001b[39m j:\n\u001b[0;32m     15\u001b[0m         i \u001b[38;5;241m=\u001b[39m j[alphabet\u001b[38;5;241m.\u001b[39mindex(j) \u001b[38;5;241m+\u001b[39m num]\n",
      "\u001b[1;31mNameError\u001b[0m: name 'j' is not defined"
     ]
    }
   ],
   "source": [
    "#practice/instructions cell- with TO-DO's for encryption, decryption\n",
    "\n",
    "alphabet = ['a', 'b', 'c', 'd', 'e', 'f', 'g', 'h', 'i', 'j', 'k', 'l', 'm', 'n', 'o', 'p', 'q', 'r', 's', 't', 'u', 'v', 'w', 'x', 'y', 'z']\n",
    "\n",
    "direction = input(\"Type 'encode' to encrypt, type 'decode' to decrypt:\\n\")\n",
    "text = input(\"Type your message:\\n\").lower() #string\n",
    "shift = int(input(\"Type the shift number:\\n\"))  #int\n",
    "\n",
    "#TODO-1: Create a function called 'encrypt' that takes the 'text' and 'shift' as inputs.\n",
    "\n",
    "def encrypt(msg, num):    \n",
    "    \n",
    "    \n",
    "\n",
    "    #TODO-2: Inside the 'encrypt' function, shift each letter of the 'text' forwards in the alphabet by the \n",
    "#     shift amount and print the encrypted text.  \n",
    "    #e.g. \n",
    "    #plain_text = \"hello\"\n",
    "    #shift = 5\n",
    "    #cipher_text = \"mjqqt\"\n",
    "    #print output: \"The encoded text is mjqqt\"\n",
    "\n",
    "    ##HINT: How do you get the index of an item in a list:\n",
    "    #https://stackoverflow.com/questions/176918/finding-the-index-of-an-item-in-a-list\n",
    "#     The index() function only returns the first occurrence, while enumerate() returns all occurrences.\n",
    "\n",
    "    ##🐛Bug alert: What happens if you try to encode the word 'civilization'?🐛\n",
    "\n",
    "#TODO-3: Call the encrypt function and pass in the user inputs. You should be able to test the code and encrypt a message. \n",
    "\n",
    "# for decryption:\n",
    "#TODO-1: Create a different function called 'decrypt' that takes the 'text' and 'shift' as inputs.\n",
    "\n",
    "  #TODO-2: Inside the 'decrypt' function, shift each letter of the 'text' *backwards* in the alphabet by \n",
    "#     the shift amount and print the decrypted text.  \n",
    "  #e.g. \n",
    "  #cipher_text = \"mjqqt\"\n",
    "  #shift = 5\n",
    "  #plain_text = \"hello\"\n",
    "  #print output: \"The decoded text is hello\"\n",
    "\n",
    "\n",
    "#TODO-3: Check if the user wanted to encrypt or decrypt the message by checking the 'direction' variable. \n",
    "# Then call the correct function based on that 'drection' variable. You should be able to test the code to encrypt *AND* decrypt a message.\n",
    "    "
   ]
  },
  {
   "cell_type": "code",
   "execution_count": 6,
   "id": "6af73b30",
   "metadata": {},
   "outputs": [
    {
     "name": "stdout",
     "output_type": "stream",
     "text": [
      "Type 'encode' to encrypt, type 'decode' to decrypt:\n",
      "encode\n",
      "['e', 'n', 'c', 'o', 'd', 'e']\n"
     ]
    }
   ],
   "source": [
    "m = input(\"Type 'encode' to encrypt, type 'decode' to decrypt:\\n\")\n",
    "m_lst =  list(m)\n",
    "print (m_lst)"
   ]
  },
  {
   "cell_type": "code",
   "execution_count": 27,
   "id": "63ca77c0",
   "metadata": {},
   "outputs": [
    {
     "name": "stdout",
     "output_type": "stream",
     "text": [
      "Type 'encode' to encrypt, type 'decode' to decrypt:\n",
      "encode\n",
      "Type your message:\n",
      "zara\n",
      "Type the shift number:\n",
      "5\n",
      "The encrypted text is efwf\n"
     ]
    }
   ],
   "source": [
    "#Caesar Cipher: long code\n",
    "\n",
    "alphabet = ['a', 'b', 'c', 'd', 'e', 'f', 'g', 'h', 'i', 'j', 'k', 'l', 'm', 'n', 'o', 'p', \n",
    "            'q', 'r', 's', 't', 'u', 'v', 'w', 'x', 'y', 'z']\n",
    "\n",
    "direction = input(\"Type 'encode' to encrypt, type 'decode' to decrypt:\\n\")\n",
    "text = input(\"Type your message:\\n\").lower() #string\n",
    "shift = int(input(\"Type the shift number:\\n\"))  #int\n",
    "\n",
    "#TODO-1: Create a function called 'encrypt' that takes the 'text' and 'shift' as inputs.\n",
    "\n",
    "def encrypt(text_msg, shift_num):\n",
    "    \n",
    "    enc_text = \"\"\n",
    "    for i in text_msg:\n",
    "        position = alphabet.index(i)\n",
    "        new_position = position + shift_num\n",
    "        \n",
    "        if new_position <= 25:\n",
    "            i = alphabet[new_position]            \n",
    "        else:\n",
    "            i = alphabet[new_position - 26]\n",
    "            \n",
    "        enc_text += i\n",
    "            \n",
    "        \n",
    "    print(f\"The encrypted text is {enc_text}\")\n",
    "        \n",
    "\n",
    "#To-do:2 Create a different function called 'decrypt' that takes the 'text' and 'shift' as inputs.  \n",
    "    \n",
    "def decrypt(text_msg, shift_num): #can use different arg names for clarity\n",
    "    \n",
    "    decrypted_text = \"\"\n",
    "    for i in text_msg:\n",
    "        position = alphabet.index(i)\n",
    "        new_position = position - shift_num\n",
    "        \n",
    "        if new_position >= 0:\n",
    "            i = alphabet[new_position]            \n",
    "        else:\n",
    "            i = alphabet[new_position + 26]\n",
    "            \n",
    "        decrypted_text += i           \n",
    "        \n",
    "    print(f\"The decrypted text is {decrypted_text}\")\n",
    "        \n",
    "#TODO-3: Check if the user wanted to encrypt or decrypt the message by checking the 'direction' variable. \n",
    "# Then call the correct function based on that 'drection' variable.\n",
    "\n",
    "if direction.lower() == \"encode\":\n",
    "    encrypt(text_msg=text, shift_num=shift) \n",
    "elif direction.lower() == \"decode\":\n",
    "    decrypt(text_msg=text, shift_num=shift)\n",
    "else:\n",
    "    print(\"Please enter a valid cipher!\")\n",
    "\n",
    "    \n",
    "   "
   ]
  },
  {
   "cell_type": "code",
   "execution_count": 28,
   "id": "9872521a",
   "metadata": {},
   "outputs": [
    {
     "name": "stdout",
     "output_type": "stream",
     "text": [
      "Type 'encode' to encrypt, type 'decode' to decrypt:\n",
      "decode\n",
      "Type your message:\n",
      "efwf\n",
      "Type the shift number:\n",
      "5\n",
      "The decrypted text is zara\n"
     ]
    }
   ],
   "source": [
    "# Caesar cipher: Refined version 1.0\n",
    "\n",
    "#TODO-1: Combine the encrypt() and decrypt() functions into a single function called caesar(). \n",
    "#TODO-2: Call the caesar() function, passing over the 'text', 'shift' and 'direction' values.\n",
    "\n",
    "alphabet = ['a', 'b', 'c', 'd', 'e', 'f', 'g', 'h', 'i', 'j', 'k', 'l', 'm', 'n', 'o', 'p', \n",
    "            'q', 'r', 's', 't', 'u', 'v', 'w', 'x', 'y', 'z']\n",
    "\n",
    "direction = input(\"Type 'encode' to encrypt, type 'decode' to decrypt:\\n\")\n",
    "text = input(\"Type your message:\\n\").lower() #string\n",
    "shift = int(input(\"Type the shift number:\\n\"))  #int\n",
    "\n",
    "#TODO-1: Combine the encrypt() and decrypt() functions into a single function called caesar()\n",
    "\n",
    "def caesar(code, text_msg, shift_num):\n",
    "      \n",
    "    enc_text = \"\"\n",
    "    decrypted_text = \"\"\n",
    "    \n",
    "    if code == \"encode\":\n",
    "        \n",
    "        for i in text_msg:\n",
    "            position = alphabet.index(i)\n",
    "            new_position = position + shift_num\n",
    "\n",
    "            if new_position <= 25:\n",
    "                i = alphabet[new_position]            \n",
    "            else:\n",
    "                i = alphabet[new_position - 26]\n",
    "\n",
    "            enc_text += i\n",
    "        print(f\"The encrypted text is {enc_text}\")\n",
    "            \n",
    "    elif code == \"decode\":\n",
    "        for i in text_msg:\n",
    "            position = alphabet.index(i)                        \n",
    "            new_position = position - shift_num\n",
    "        \n",
    "            if new_position >= 0:\n",
    "                i = alphabet[new_position]            \n",
    "            else:\n",
    "                i = alphabet[new_position + 26]\n",
    "\n",
    "            decrypted_text += i           \n",
    "\n",
    "        print(f\"The decrypted text is {decrypted_text}\")\n",
    "        \n",
    "    else:\n",
    "        print(\"Invalid instruction\")\n",
    "            \n",
    "caesar(code=direction, text_msg=text, shift_num=shift)\n",
    "            \n",
    "\n",
    "    \n",
    "   "
   ]
  },
  {
   "cell_type": "code",
   "execution_count": 31,
   "id": "30885ec1",
   "metadata": {},
   "outputs": [
    {
     "name": "stdout",
     "output_type": "stream",
     "text": [
      "Type 'encode' to encrypt, type 'decode' to decrypt:\n",
      "encode\n",
      "Type your message:\n",
      "zara\n",
      "Type the shift number:\n",
      "5\n",
      "The encoded text is efwf!\n"
     ]
    }
   ],
   "source": [
    "# Caesar cipher: Refined version 2.0\n",
    "\n",
    "#TODO-1: Combine the encrypt() and decrypt() functions into a single function called caesar(). \n",
    "#TODO-2: Call the caesar() function, passing over the 'text', 'shift' and 'direction' values.\n",
    "\n",
    "alphabet = ['a', 'b', 'c', 'd', 'e', 'f', 'g', 'h', 'i', 'j', 'k', 'l', 'm', 'n', 'o', 'p', 'q', 'r', 's', 't', 'u', 'v', 'w', 'x', 'y', 'z']\n",
    "\n",
    "direction = input(\"Type 'encode' to encrypt, type 'decode' to decrypt:\\n\")\n",
    "text = input(\"Type your message:\\n\").lower() #string\n",
    "shift = int(input(\"Type the shift number:\\n\"))  #int\n",
    "\n",
    "def caesar(code, text_msg, shift_num):\n",
    "    end_text = \"\"\n",
    "    if code == \"decode\":           #pay attention to the superb logic here..\n",
    "        shift_num *= -1\n",
    "    for letter in text_msg:\n",
    "        position = alphabet.index(letter)\n",
    "        new_position = position + shift_num\n",
    "        if shift_num > 0:\n",
    "            \n",
    "            if new_position <= 25:\n",
    "                letter = alphabet[new_position]            \n",
    "            else:\n",
    "                letter = alphabet[new_position - 26]\n",
    "        else:\n",
    "            \n",
    "            if new_position >= 0:\n",
    "                letter = alphabet[new_position]            \n",
    "            else:\n",
    "                letter = alphabet[new_position + 26]\n",
    "                \n",
    "        end_text += letter\n",
    "                    \n",
    "    print(f\"The {code}d text is {end_text}!\")\n",
    "    \n",
    "caesar(code=direction, text_msg=text, shift_num=shift)\n",
    "        "
   ]
  },
  {
   "cell_type": "markdown",
   "id": "ec175d8b",
   "metadata": {},
   "source": [
    "# Caesar cipher: Final version- refer to Jupyter lab exercise"
   ]
  },
  {
   "cell_type": "code",
   "execution_count": null,
   "id": "c04ca83e",
   "metadata": {},
   "outputs": [],
   "source": []
  }
 ],
 "metadata": {
  "kernelspec": {
   "display_name": "Python 3 (ipykernel)",
   "language": "python",
   "name": "python3"
  },
  "language_info": {
   "codemirror_mode": {
    "name": "ipython",
    "version": 3
   },
   "file_extension": ".py",
   "mimetype": "text/x-python",
   "name": "python",
   "nbconvert_exporter": "python",
   "pygments_lexer": "ipython3",
   "version": "3.11.3"
  }
 },
 "nbformat": 4,
 "nbformat_minor": 5
}
