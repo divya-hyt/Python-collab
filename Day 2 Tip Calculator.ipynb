{
 "cells": [
  {
   "cell_type": "markdown",
   "id": "6766730b",
   "metadata": {},
   "source": [
    "# Day 2 topics: Data Types, Numbers, Operations, Type conversion, f-strings\n",
    "\n",
    "# Target: To build a tip calculator"
   ]
  },
  {
   "cell_type": "code",
   "execution_count": 3,
   "id": "ecbd44fb",
   "metadata": {},
   "outputs": [
    {
     "name": "stdout",
     "output_type": "stream",
     "text": [
      "5\n",
      "H\n",
      "o\n"
     ]
    }
   ],
   "source": [
    "# Data Type 1(DT1): Strings\n",
    "# Concept of subscripting\n",
    "print(len(\"Hello\"))\n",
    "print(\"Hello\"[0]) \n",
    "# Get the code to print the last character here\n",
    "print(\"Hello\"[4])\n",
    "# int object is not subscriptable"
   ]
  },
  {
   "cell_type": "markdown",
   "id": "ea713215",
   "metadata": {},
   "source": [
    " DT2: Integers: Whole numbers- +ve and -ve\n",
    " For large #s, use underscore b/w to improve readability,but system reads as a whole without _ (Eg. 100_456_70 is read as 10045670)\n",
    " DT3: Floating point #s: decimal point can float around\n",
    " DT4: Boolean: True or False (Capital T and F)"
   ]
  },
  {
   "cell_type": "code",
   "execution_count": 8,
   "id": "93ea3d75",
   "metadata": {},
   "outputs": [
    {
     "name": "stdout",
     "output_type": "stream",
     "text": [
      "13\n",
      "<class 'str'>\n",
      "4\n"
     ]
    }
   ],
   "source": [
    "#get a 2-digit number and print sum of it's digits\n",
    "two_digit_number = input()\n",
    "# 🚨 Don't change the code above 👆\n",
    "####################################\n",
    "# Write your code below this line 👇\n",
    "print(type(two_digit_number))\n",
    "# input() function stores in type- string\n",
    "a= two_digit_number\n",
    "sum_of_digits= int(a[0])+int(a[1])\n",
    "print(sum_of_digits)"
   ]
  },
  {
   "cell_type": "code",
   "execution_count": 10,
   "id": "d7d5a722",
   "metadata": {},
   "outputs": [
    {
     "name": "stdout",
     "output_type": "stream",
     "text": [
      "<class 'float'>\n",
      "8\n"
     ]
    }
   ],
   "source": [
    "# Mathematical Operations\n",
    "3 + 8\n",
    "7 - 2\n",
    "3 * 4\n",
    "print(type(6 / 3))\n",
    "# type() returns the data type; Div operator always stores result as float.\n",
    "# ** denotes \"to the power of\" or exponential value\n",
    "print(2 ** 3)\n"
   ]
  },
  {
   "cell_type": "code",
   "execution_count": 12,
   "id": "45b6fe3d",
   "metadata": {},
   "outputs": [
    {
     "name": "stdout",
     "output_type": "stream",
     "text": [
      "3.0\n",
      "3.0\n"
     ]
    }
   ],
   "source": [
    "# If operators in same line, priority on the basis of PEMDASLR - Paranthesis, Exponent, Mult, Div, Add, Subt, Left, Right\n",
    "# Calc goes from left to right, * & / have equal priority\n",
    "# change the code to get output as 3: print(3*3+3/3-3)\n",
    "print(3 * 3 / 3 + 3 - 3 )\n",
    "# another way- using paranthesis to isolate certain calculations\n",
    "print(3*(3+3)/3-3)"
   ]
  },
  {
   "cell_type": "code",
   "execution_count": 14,
   "id": "856c9bed",
   "metadata": {},
   "outputs": [
    {
     "name": "stdout",
     "output_type": "stream",
     "text": [
      "1.65\n",
      "78\n",
      "34\n"
     ]
    }
   ],
   "source": [
    "# BMI Calculator: BMI= Weight in kg/ Height^2 in metres\n",
    "# 1st input: enter height in meters e.g: 1.65\n",
    "height = input()\n",
    "# 2nd input: enter weight in kilograms e.g: 72\n",
    "weight = input()\n",
    "# 🚨 Don't change the code above 👆\n",
    "\n",
    "h = float(height)\n",
    "w = int(weight)\n",
    "BMI = int(w / h**h)\n",
    "# Another way: BMI = int(w / (h*h))\n",
    "print (BMI)"
   ]
  },
  {
   "cell_type": "code",
   "execution_count": 15,
   "id": "e79afa3d",
   "metadata": {},
   "outputs": [
    {
     "name": "stdout",
     "output_type": "stream",
     "text": [
      "2.67\n"
     ]
    }
   ],
   "source": [
    "# To round of, use round() function, can specify # of digits to round off\n",
    "print(round(2.6666,2))"
   ]
  },
  {
   "cell_type": "code",
   "execution_count": 17,
   "id": "ba108cf8",
   "metadata": {},
   "outputs": [
    {
     "name": "stdout",
     "output_type": "stream",
     "text": [
      "2\n",
      "1.0\n"
     ]
    }
   ],
   "source": [
    "print (8 // 3)\n",
    "# // this converts division result into int\n",
    "result = 4 / 2\n",
    "result /= 2\n",
    "print (result)\n",
    "# /=, +=, -=, *= to manipulate a variable based on it's last result"
   ]
  },
  {
   "cell_type": "code",
   "execution_count": 18,
   "id": "96178a5d",
   "metadata": {},
   "outputs": [
    {
     "name": "stdout",
     "output_type": "stream",
     "text": [
      "So your score is 1, height is 1.67 and your Success status is True\n"
     ]
    }
   ],
   "source": [
    "# f-String is used to print diff data types in one print line smoothly\n",
    "score = 1\n",
    "height = 1.67\n",
    "Win = True\n",
    "print (f\"So your score is {score}, height is {height} and your Success status is {Win}\")"
   ]
  },
  {
   "cell_type": "code",
   "execution_count": 1,
   "id": "5c96de52",
   "metadata": {},
   "outputs": [
    {
     "name": "stdout",
     "output_type": "stream",
     "text": [
      "64\n",
      "You have 1352 weeks left.\n"
     ]
    }
   ],
   "source": [
    "#  Calculating your Life in Weeks left on planet earth, assuming Max=90\n",
    "age = input()\n",
    "# 🚨 Don't change the code above 👆\n",
    "# Write your code below this line 👇\n",
    "Years_left = 90 - int(age)\n",
    "Weeks_left = (Years_left * 52)\n",
    "print(f\"You have {Weeks_left} weeks left.\")"
   ]
  },
  {
   "cell_type": "markdown",
   "id": "efdeb5f6",
   "metadata": {},
   "source": [
    "# Day 2 Final Project: Tip Calculator"
   ]
  },
  {
   "cell_type": "code",
   "execution_count": 2,
   "id": "7757f58f",
   "metadata": {},
   "outputs": [
    {
     "name": "stdout",
     "output_type": "stream",
     "text": [
      "Welcome to the tip calculator!\n",
      "What was the total bill? Rs.750\n",
      "What percentage tip would you like to give? 10, 12 or 15 percent?\n",
      " 10\n",
      "How many people to split the bill? 2\n",
      "Each person should pay:Rs.412.5\n"
     ]
    }
   ],
   "source": [
    "print(\"Welcome to the tip calculator!\")\n",
    "Bill = float(input (\"What was the total bill? Rs.\"))\n",
    "Tip = int(input (\"What percentage tip would you like to give? 10, 12 or 15 percent?\\n \"))\n",
    "Bill_with_tip = Bill + Bill * (Tip/100)\n",
    "ppl = int(input(\"How many people to split the bill? \"))\n",
    "split_bill = round(Bill_with_tip / ppl,2)\n",
    "print(f\"Each person should pay:Rs.{split_bill}\")\n",
    "\n",
    "\n",
    "\n"
   ]
  },
  {
   "cell_type": "code",
   "execution_count": null,
   "id": "f268c185",
   "metadata": {},
   "outputs": [],
   "source": []
  }
 ],
 "metadata": {
  "kernelspec": {
   "display_name": "Python 3 (ipykernel)",
   "language": "python",
   "name": "python3"
  },
  "language_info": {
   "codemirror_mode": {
    "name": "ipython",
    "version": 3
   },
   "file_extension": ".py",
   "mimetype": "text/x-python",
   "name": "python",
   "nbconvert_exporter": "python",
   "pygments_lexer": "ipython3",
   "version": "3.11.3"
  }
 },
 "nbformat": 4,
 "nbformat_minor": 5
}
