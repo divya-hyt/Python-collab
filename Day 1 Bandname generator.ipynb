{
 "cells": [
  {
   "cell_type": "markdown",
   "id": "0952cda9",
   "metadata": {},
   "source": [
    "# Day 1- Print fucntion, input(), len(), string concatenation"
   ]
  },
  {
   "cell_type": "code",
   "execution_count": 1,
   "id": "a0e55ff8",
   "metadata": {},
   "outputs": [],
   "source": [
    "# Print function- between double quotes(widely used) or single quotes\n",
    "print(\"Hello world!\")"
   ]
  },
  {
   "cell_type": "code",
   "execution_count": 2,
   "id": "0dce8c96",
   "metadata": {},
   "outputs": [],
   "source": [
    "#to print strings in different lines use- \\n\n",
    "# Exercise 1:\n",
    "print(\"Hello World!\\nHello World!\")"
   ]
  },
  {
   "cell_type": "code",
   "execution_count": 3,
   "id": "5881f92b",
   "metadata": {},
   "outputs": [],
   "source": [
    "# String Concatenation: to combine 2 strings use: + \n",
    "# Exercise 2:\n",
    "print(\"Hello\" + \"Divya\")\n",
    "print(\"Hello\"+\" Divya\")\n",
    "print(\"Hello\" + \" \" + \"Mahati\")"
   ]
  },
  {
   "cell_type": "code",
   "execution_count": 4,
   "id": "dd4cac59",
   "metadata": {},
   "outputs": [],
   "source": [
    "# Exercise 3:remove errors\n",
    "print(\"Day 1 - String Manipulation\"\n",
    "print(\"String Concatenation is done with the \"+\" sign.\")\n",
    "# When double quotes are used within the print statement, use single quotes to print, otherwise system gets confused.\n",
    "print(('e.g. print(\"Hello \" + \"world\")')\n",
    "print(\"New lines can be created with a backslash and n.\")"
   ]
  },
  {
   "cell_type": "code",
   "execution_count": 5,
   "id": "e13ad7cb",
   "metadata": {},
   "outputs": [],
   "source": [
    "#Thonny app is used to debug code line by line\n",
    "# input() is used to get input from user- stores as string;\n",
    "# ctrl + / is used to comment a line\n",
    "# Exercise 4:\n",
    "print(\"Hello \" + input(\"What is your name?\\n\") + \"!\")"
   ]
  },
  {
   "cell_type": "code",
   "execution_count": 6,
   "id": "5a3a6150",
   "metadata": {},
   "outputs": [],
   "source": [
    "#Exercise 5: Get 2 numerical inputs and return multiplied output\n",
    "num1 = int(input())\n",
    "num2 = int(input())\n",
    "c=num1*num2\n",
    "print(\"The final multiplication value is:\",c)\n",
    "print(c)"
   ]
  },
  {
   "cell_type": "code",
   "execution_count": 7,
   "id": "f4be2a98",
   "metadata": {},
   "outputs": [],
   "source": [
    "# Exercise 6: Get any type of string from the user and return the # of characters\n",
    "# Provide any name in the input pane below.\n",
    "# That value can be accessed using the input() function.\n",
    "# Don't put anything inside the input() function!\n",
    "# len() fn calculates the # of chars in a string\n",
    "# name=input()\n",
    "print(len(input()))"
   ]
  },
  {
   "cell_type": "code",
   "execution_count": 9,
   "id": "abfe76c0",
   "metadata": {},
   "outputs": [],
   "source": [
    "# Ex 7: Swapping 2 input values\n",
    "# There are two variables, a and b from input\n",
    "a = input()\n",
    "b = input()\n",
    "# 🚨 Don't change the code above ☝️\n",
    "c = a\n",
    "a = b\n",
    "b = c\n",
    "# 🚨 Don't change the code below 👇\n",
    "print(\"a: \" + a)\n",
    "print(\"b: \" + b)"
   ]
  },
  {
   "cell_type": "code",
   "execution_count": 10,
   "id": "d05666e8",
   "metadata": {},
   "outputs": [],
   "source": [
    "# Day 1 Final Project: Band Name generator\n",
    "print(\"Welcome to the Band name generator!\")\n",
    "City = input(\"Which city did you grow up in?\\n\")\n",
    "Pet = input(\"What was your pet's name?\\n\")\n",
    "print(\"Your band name could be \" + City + \" \" + Pet + \"!\")"
   ]
  },
  {
   "cell_type": "code",
   "execution_count": null,
   "id": "c9c7df57",
   "metadata": {},
   "outputs": [],
   "source": []
  }
 ],
 "metadata": {
  "kernelspec": {
   "display_name": "Python 3 (ipykernel)",
   "language": "python",
   "name": "python3"
  },
  "language_info": {
   "codemirror_mode": {
    "name": "ipython",
    "version": 3
   },
   "file_extension": ".py",
   "mimetype": "text/x-python",
   "name": "python",
   "nbconvert_exporter": "python",
   "pygments_lexer": "ipython3",
   "version": "3.11.3"
  }
 },
 "nbformat": 4,
 "nbformat_minor": 5
}
