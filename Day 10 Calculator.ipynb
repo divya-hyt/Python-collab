{
 "cells": [
  {
   "cell_type": "code",
   "execution_count": 7,
   "id": "515cdb3b",
   "metadata": {},
   "outputs": [
    {
     "name": "stdout",
     "output_type": "stream",
     "text": [
      "8\n"
     ]
    }
   ],
   "source": [
    "# Syntax:\n",
    "def my_func():\n",
    "    return 4 * 2\n",
    "output = my_func()\n",
    "print (output)"
   ]
  },
  {
   "cell_type": "code",
   "execution_count": 3,
   "id": "04d07d29",
   "metadata": {},
   "outputs": [
    {
     "name": "stdout",
     "output_type": "stream",
     "text": [
      "Enter you full name:\n",
      "mahatI nilanI\n",
      "The formatted name is Mahati Nilani.\n",
      "The entered name is: ['mahatI', 'nilanI']\n"
     ]
    }
   ],
   "source": [
    "#Ex 1: Returning names with Title case\n",
    "\n",
    "# Function to format the name and return the final string\n",
    "def titled_name(first, last):\n",
    "    first_name = first.title()\n",
    "    last_name = last.title()\n",
    "    return f\"{first_name} {last_name}\"   #new use of f-string\n",
    "\n",
    "#     formatted_name = first_name + \" \" + last_name\n",
    "#     return formatted_name\n",
    "\n",
    "# To get input from the user and call the function\n",
    "full_name = input(\"Enter you full name:\\n\").split()\n",
    "final_name = titled_name(full_name[0],full_name[1])\n",
    "print(f\"The formatted name is {final_name}.\")\n",
    "print(f\"The entered name is: {full_name}\")\n"
   ]
  },
  {
   "cell_type": "code",
   "execution_count": 16,
   "id": "b6cb3a96",
   "metadata": {},
   "outputs": [],
   "source": [
    "#Ex 2: returning empties using same example above\n",
    "\n",
    "# Function to format the name and return the final string\n",
    "def titled_name(first, last):\n",
    "    if first == \"\" or last == \"\":\n",
    "        return \"Invalid inputs\"\n",
    "    first_name = first.title()\n",
    "    last_name = last.title()\n",
    "    return f\"{first_name} {last_name}\"   #new use of f-string\n"
   ]
  },
  {
   "cell_type": "code",
   "execution_count": 8,
   "id": "b8e1dd1a",
   "metadata": {},
   "outputs": [
    {
     "name": "stdout",
     "output_type": "stream",
     "text": [
      "Enter a year:\n",
      "2024\n",
      "Enter a month:\n",
      "2\n",
      "The number of days in 2-month of 2024 is:\n",
      "2024 is a leap year, so 2 has 29 days in it!\n"
     ]
    }
   ],
   "source": [
    "#Ex 3: To calculate number of days in a given month and year\n",
    "\n",
    "def is_leap(year):\n",
    "  if year % 4 == 0:\n",
    "    if year % 100 == 0:\n",
    "      if year % 400 == 0:\n",
    "        return True\n",
    "      else:\n",
    "        return False\n",
    "    else:\n",
    "      return True\n",
    "  else:\n",
    "    return False\n",
    "  \n",
    "# TODO: Add more code here 👇\n",
    "def days_in_month(year_ip, month_ip):\n",
    "    month_days = [31, 28, 31, 30, 31, 30, 31, 31, 30, 31, 30, 31]\n",
    "    if is_leap(year_ip) and month_ip == 2:\n",
    "        return f\"{year_ip} is a leap year, so {month_ip} has 29 days in it!\"\n",
    "    else:\n",
    "        return month_days[month_ip-1]       \n",
    "  \n",
    "\n",
    "  \n",
    "#🚨 Do NOT change any of the code below \n",
    "year = int(input(\"Enter a year:\\n\")) \n",
    "month = int(input(\"Enter a month:\\n\")) \n",
    "days = days_in_month(year, month)\n",
    "print(f\"The number of days in {month}-month of {year} is:\\n{days}\")\n",
    "\n"
   ]
  },
  {
   "cell_type": "code",
   "execution_count": 34,
   "id": "85c51158",
   "metadata": {},
   "outputs": [
    {
     "data": {
      "text/plain": [
       "' Docstrings are used between 3 double quotes - and can be multilined. Generally used to\\ndocument functions - and used as an explainer'"
      ]
     },
     "execution_count": 34,
     "metadata": {},
     "output_type": "execute_result"
    }
   ],
   "source": [
    "# Docstrings: Way to create documentation as we code along\n",
    "\"\"\" Docstrings are used between 3 double quotes - and can be multilined. Generally used to\n",
    "document functions - and used as an explainer\"\"\""
   ]
  },
  {
   "cell_type": "code",
   "execution_count": null,
   "id": "79c3bad8",
   "metadata": {},
   "outputs": [
    {
     "name": "stdout",
     "output_type": "stream",
     "text": [
      "\n",
      " _____________________\n",
      "|  _________________  |\n",
      "| | Pythonista   0. | |  .----------------.  .----------------.  .----------------.  .----------------. \n",
      "| |_________________| | | .--------------. || .--------------. || .--------------. || .--------------. |\n",
      "|  ___ ___ ___   ___  | | |     ______   | || |      __      | || |   _____      | || |     ______   | |\n",
      "| | 7 | 8 | 9 | | + | | | |   .' ___  |  | || |     /  \\     | || |  |_   _|     | || |   .' ___  |  | |\n",
      "| |___|___|___| |___| | | |  / .'   \\_|  | || |    / /\\ \\    | || |    | |       | || |  / .'   \\_|  | |\n",
      "| | 4 | 5 | 6 | | - | | | |  | |         | || |   / ____ \\   | || |    | |   _   | || |  | |         | |\n",
      "| |___|___|___| |___| | | |  \\ `.___.'\\  | || | _/ /    \\ \\_ | || |   _| |__/ |  | || |  \\ `.___.'\\  | |\n",
      "| | 1 | 2 | 3 | | x | | | |   `._____.'  | || ||____|  |____|| || |  |________|  | || |   `._____.'  | |\n",
      "| |___|___|___| |___| | | |              | || |              | || |              | || |              | |\n",
      "| | . | 0 | = | | / | | | '--------------' || '--------------' || '--------------' || '--------------' |\n",
      "| |___|___|___| |___| |  '----------------'  '----------------'  '----------------'  '----------------' \n",
      "|_____________________|\n",
      "\n"
     ]
    }
   ],
   "source": [
    "#Ex:4 Final project- Calculator app\n",
    "\n",
    "from IPython.display import clear_output\n",
    "\n",
    "def add(n1, n2):\n",
    "    return n1 + n2\n",
    "\n",
    "def sub(n1, n2):\n",
    "    return n1 - n2\n",
    "\n",
    "def mul(n1, n2):\n",
    "    return n1 * n2\n",
    "\n",
    "def div(n1, n2):\n",
    "    return n1 / n2\n",
    "\n",
    "#  Now, we store these functions in a dictionary: Keys are the operators & values: function names\n",
    "\n",
    "operations = {\n",
    "    \"+\" : add,\n",
    "    \"-\" : sub,\n",
    "    \"*\" : mul,\n",
    "    \"/\" : div\n",
    "}\n",
    "\n",
    "def calculation():\n",
    "    \n",
    "    logo = \"\"\"\n",
    " _____________________\n",
    "|  _________________  |\n",
    "| | Pythonista   0. | |  .----------------.  .----------------.  .----------------.  .----------------. \n",
    "| |_________________| | | .--------------. || .--------------. || .--------------. || .--------------. |\n",
    "|  ___ ___ ___   ___  | | |     ______   | || |      __      | || |   _____      | || |     ______   | |\n",
    "| | 7 | 8 | 9 | | + | | | |   .' ___  |  | || |     /  \\     | || |  |_   _|     | || |   .' ___  |  | |\n",
    "| |___|___|___| |___| | | |  / .'   \\_|  | || |    / /\\ \\    | || |    | |       | || |  / .'   \\_|  | |\n",
    "| | 4 | 5 | 6 | | - | | | |  | |         | || |   / ____ \\   | || |    | |   _   | || |  | |         | |\n",
    "| |___|___|___| |___| | | |  \\ `.___.'\\  | || | _/ /    \\ \\_ | || |   _| |__/ |  | || |  \\ `.___.'\\  | |\n",
    "| | 1 | 2 | 3 | | x | | | |   `._____.'  | || ||____|  |____|| || |  |________|  | || |   `._____.'  | |\n",
    "| |___|___|___| |___| | | |              | || |              | || |              | || |              | |\n",
    "| | . | 0 | = | | / | | | '--------------' || '--------------' || '--------------' || '--------------' |\n",
    "| |___|___|___| |___| |  '----------------'  '----------------'  '----------------'  '----------------' \n",
    "|_____________________|\n",
    "\"\"\"\n",
    "    print(logo)\n",
    "    \n",
    "    num1 = float(input(\"Enter your 1st number:\\n\"))\n",
    "\n",
    "    for op in operations: #operations is the dictionary name\n",
    "        print(op)\n",
    "        \n",
    "    flag = True\n",
    "    while flag:\n",
    "\n",
    "        operator = input(\"Pick an operation to perform?\\n\")\n",
    "        num2 = float(input(\"Enter the next number:\\n\"))\n",
    "\n",
    "        answer = operations[operator](num1, num2) #reflect on the intricacy here\n",
    "\n",
    "        print(f\"{num1} {operator} {num2} = {answer}\")\n",
    "        cont = input(f\"Type 'y' to continue calculating with {answer}, else type 'n' to start a new calculation: \")\n",
    "        if cont == \"y\":\n",
    "            num1 = answer\n",
    "        else:\n",
    "            flag = False\n",
    "            clear_output()\n",
    "            calculation()\n",
    "            \n",
    "calculation()\n",
    "\n",
    "# This concept of defining an empty function with no input/output and calling it where needed to go back \n",
    "# to a specified point in the program is called recursion. ie. a function calling itself within itself "
   ]
  },
  {
   "cell_type": "code",
   "execution_count": null,
   "id": "218c1e0c",
   "metadata": {},
   "outputs": [],
   "source": []
  }
 ],
 "metadata": {
  "kernelspec": {
   "display_name": "Python 3 (ipykernel)",
   "language": "python",
   "name": "python3"
  },
  "language_info": {
   "codemirror_mode": {
    "name": "ipython",
    "version": 3
   },
   "file_extension": ".py",
   "mimetype": "text/x-python",
   "name": "python",
   "nbconvert_exporter": "python",
   "pygments_lexer": "ipython3",
   "version": "3.11.3"
  }
 },
 "nbformat": 4,
 "nbformat_minor": 5
}
